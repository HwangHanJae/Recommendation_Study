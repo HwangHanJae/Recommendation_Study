{
  "nbformat": 4,
  "nbformat_minor": 0,
  "metadata": {
    "colab": {
      "provenance": [],
      "toc_visible": true,
      "authorship_tag": "ABX9TyOIcBelGxzQ/TJ8XQmH7Mc5",
      "include_colab_link": true
    },
    "kernelspec": {
      "name": "python3",
      "display_name": "Python 3"
    },
    "language_info": {
      "name": "python"
    }
  },
  "cells": [
    {
      "cell_type": "markdown",
      "metadata": {
        "id": "view-in-github",
        "colab_type": "text"
      },
      "source": [
        "<a href=\"https://colab.research.google.com/github/HwangHanJae/Recommendation_Study/blob/main/kakao/Mini%20Reco/Mini_Reco.ipynb\" target=\"_parent\"><img src=\"https://colab.research.google.com/assets/colab-badge.svg\" alt=\"Open In Colab\"/></a>"
      ]
    },
    {
      "cell_type": "markdown",
      "source": [
        "# 소개\n",
        "\n",
        "이 문제의 목표는 Memory-based Collaborative Filtering 기법 중 하나인 User-based Collaborative filtering 알고리즘을 사용해 추천 시스템을 만드는 것입니다.  \n",
        "아래 알고리즘을 구현하여 Task를 수행하세요."
      ],
      "metadata": {
        "id": "Tn5wIb64u1Vk"
      }
    },
    {
      "cell_type": "markdown",
      "source": [
        "# User-based Collaborative Filtering\n",
        "\n",
        "The [memory-based](https://en.wikipedia.org/wiki/Collaborative_filtering#Memory-based) approach uses user rating data to compute the similarity between users or items. Typical examples of this approach are neighbourhood-based CF and item-based/user-based top-N recommendations. For example, in user based approaches, the value of ratings user $\\large u$ gives to item $\\large i$ is calculated as an aggregation of some similar users' rating of the item:\n",
        "\n",
        "$$\\large r_{u,i} = \\operatorname{aggr}\\limits_{u^\\prime \\in U} r_{u^\\prime, i}$$\n",
        "\n",
        "where $\\large U$ denotes the set of top N users that are most similar to user $\\large u$ who rated item $\\large i$.\n",
        "\n",
        "Some examples of the aggregation function includes:\n",
        "\n",
        "$$\\large \\displaylines{\n",
        "r_{u,i} =& \\frac{1}{N}\\sum\\limits_{u^\\prime \\in U}r_{u^\\prime, i}\\\\\n",
        "r_{u,i} =& k\\sum\\limits_{u^\\prime \\in U}\\operatorname{simil}(u,u^\\prime)r_{u^\\prime, i}\n",
        "}$$\n",
        "\n",
        "where $\\large k$ is a normalizing factor defined as $\\large k = 1/\\sum_{u^\\prime \\in U}|\\operatorname{simil}(u,u^\\prime)|$, and\n",
        "\n",
        "$$\\large \\textbf{(1)} \\qquad r_{u,i} = \\bar{r_u} + k\\sum\\limits_{u^\\prime \\in U}\\operatorname{simil}(u,u^\\prime)(r_{u^\\prime, i}-\\bar{r_{u^\\prime}})$$\n",
        "\n",
        "where $\\large \\bar{r_u}$ is the average rating of user $\\large u$ for all the items rated by $\\large u$.\n",
        "\n",
        "The neighborhood-based algorithm calculates the similarity between two users or items, and produces a prediction for the user by taking the [weighted average](https://en.wikipedia.org/wiki/Weighted_average) of all the ratings. Similarity computation between items or users is an important part of this approach. Multiple measures, such as [Pearson correlation](https://en.wikipedia.org/wiki/Pearson_product-moment_correlation_coefficient) and [vector cosine](https://en.wikipedia.org/wiki/Cosine_similarity) based similarity are used for this.\n",
        "\n",
        "The cosine similarity of two users $\\large x$, $\\large y$ is defined as:\n",
        "\n",
        "$$\\large \\textbf{(2)} \\qquad \\operatorname{simil}(x,y) = \\cos(\\vec x,\\vec y) = \\frac{\\vec x \\cdot \\vec y}{||\\vec x|| \\times ||\\vec y||} = \\frac{\\sum\\limits_{i \\in I_{xy}}r_{x,i}r_{y,i}}{\\sqrt{\\sum\\limits_{i \\in I_{x}}r_{x,i}^2}\\sqrt{\\sum\\limits_{i \\in I_{y}}r_{y,i}^2}}$$\n",
        "\n",
        "where $\\large I_{xy}$ is the set of items that rated by both user $\\large x$ and user $\\large y$.\n",
        "\n",
        "The user based top-N recommendation algorithm uses a similarity-based vector model to identify the $\\large k$ most similar users to an active user. After the $\\large k$ most similar users are found, their corresponding user-item matrices are aggregated to identify the set of items to be recommended."
      ],
      "metadata": {
        "id": "giKyYN-gu74r"
      }
    },
    {
      "cell_type": "markdown",
      "source": [
        "메모리 기반 접근방식은 사용자 평가 데이터를 사용하여 사용자 또는 아이템간의 유사성을 계산합니다. 이 접근방식의 일반적인 예는 이웃 기반 CF와 아이템 기반/사용자 기반 Top-N 추천입니다. 예를들어 사용자 기반 접근방식에서는, 사용자 $u$가 아이템 $i$에 대해 부여한 평점은 아이템에 대한 유사한 사용자를 계산하는데 쓰입니다.\n",
        "\n",
        "$$\\large r_{u,i} = \\operatorname{aggr}\\limits_{u^\\prime \\in U} r_{u^\\prime, i}$$\n",
        "\n",
        "여기서 $U$는 아이템 $i$를 평가한 사용자 $u$와 가장 유사한 상위 $N$명의 사용자 집합(피어그룹)을 나타냅니다.\n",
        "\n",
        "집계 함수의 몇 가지 예는 다음과 같습니다.\n",
        "\n",
        "$$\\large \\displaylines{\n",
        "r_{u,i} =& \\frac{1}{N}\\sum\\limits_{u^\\prime \\in U}r_{u^\\prime, i}\\\\\n",
        "r_{u,i} =& k\\sum\\limits_{u^\\prime \\in U}\\operatorname{simil}(u,u^\\prime)r_{u^\\prime, i}\n",
        "}$$\n",
        "\n",
        "여기서 $\\large k$는 $\\large k = 1/\\sum_{u^\\prime \\in U}|\\operatorname{simil}(u,u^\\prime)|$이고, \n",
        "\n",
        "$$\\large \\textbf{(1)} \\qquad r_{u,i} = \\bar{r_u} + k\\sum\\limits_{u^\\prime \\in U}\\operatorname{simil}(u,u^\\prime)(r_{u^\\prime, i}-\\bar{r_{u^\\prime}})$$\n",
        "\n",
        "여기서 $\\large \\bar{r_u}$는 사용자 $\\large u$가 평가한 모든 아이템에 대한 사용자 $\\large u$의 평균 평점입니다.\n",
        "\n",
        "이웃 기반 알고리즘은 두 사용자 혹은 두 아이템 간의 유사성을 계산하고 모든 평점의 가중 평균을 취하여 사용자에 대한 예측을 생성합니다. 아이템 또는 사용자간의 유사성 계산은 이 접근방식의 중요한 부분입니다. 이를 위해 피어슨 상관계수, 벡터 코사인과 같은 여러 방식이 사용됩니다.\n",
        "\n",
        "두 사용자 $\\large x$, $\\large y$의 코사인 유사도는 다음과 같이 정의됩니다.\n",
        "\n",
        "$$\\large \\textbf{(2)} \\qquad \\operatorname{simil}(x,y) = \\cos(\\vec x,\\vec y) = \\frac{\\vec x \\cdot \\vec y}{||\\vec x|| \\times ||\\vec y||} = \\frac{\\sum\\limits_{i \\in I_{xy}}r_{x,i}r_{y,i}}{\\sqrt{\\sum\\limits_{i \\in I_{x}}r_{x,i}^2}\\sqrt{\\sum\\limits_{i \\in I_{y}}r_{y,i}^2}}$$\n",
        "\n",
        "여기서 $\\large I_{xy}$는 사용자 $\\large x$, $\\large y$ 모두가 평가한 아이템 집합입니다.\n",
        "\n",
        "사용자 기반 top-N 추천 알고리즘은 유사성 기반 벡터 모델을 사용하여 활성 사용자와 가장 유사한 k명의 사용자를 확인합니다.\n",
        "$\\large k$명의 가장 유사한 사용자들을 찾은 후 사용자-아이템 매트릭스를 집계하여 추천할 항목 집합을 확인합니다."
      ],
      "metadata": {
        "id": "R_flDWjIwzdN"
      }
    },
    {
      "cell_type": "markdown",
      "source": [
        "# 문제\n",
        "\n",
        "`num_reco_users`명의 사용자를 위해 User-based Collaborative Filtering 알고리즘으로 추천 결과를 만들어야 합니다.\n",
        "\n",
        "추천 결과를 만드는 방법은 다음과 같습니다.\n",
        "1. 식 (2)를 활용하여 최근접 이웃 집합 $U$를 계산합니다.\n",
        "- $U$는 사용자와 유사도가 가장 높은 `num_sim_user_top_N`명의 최근접 이웃 사용자로 구성됩니다.\n",
        "2. 식 (1)로 생성한 `num_item_rec_top_M`개의 추천 결과를 한 줄로 출력합니다.\n",
        "- 추천 결과의 각 아이템 ID는 공백으로 구분되어야 합니다.\n",
        "- 사용자에게 추천할 수 있는 아이템은 전체 아이템 집합 $I$가아닌 최근접 이웃 $U$가 평가한 아이템 집합 $I^\\prime$입니다.\n"
      ],
      "metadata": {
        "id": "n6M__LXb2ebp"
      }
    },
    {
      "cell_type": "markdown",
      "source": [
        "## 참고사항\n",
        "문제를 해결할 때 아래 내용을 참고하시기 바랍니다.\n",
        "1. 사용자가 이미 평가한 아이템은 추천 결과에 포함하지 않습니다.\n",
        "2. 추천할 수 있는 아이템의 수($n$)가 `num_item_rec_top_M`보다 작은 경우, 그 n개에 대해서만 추천합니다.\n",
        "3. 한 사용자가 같은 아이템을 중복해서 평가한 경우는 없습니다.\n",
        "4. 데이터는 희소 행렬 데이터입니다. 그러므로 모든 사용자와 아이템 쌍에 대한 평가가 존재하는 것은 아닙니다.\n",
        "5. Cosine similarity 계산이 정의되지 않은 경우에는 0으로 정의합니다.\n",
        "6. 식 (1)에서 normalizing factor $k$ 값이 정의되지 않은 경우에는 0으로 정의합니다."
      ],
      "metadata": {
        "id": "iJ0qKPvl3PkM"
      }
    },
    {
      "cell_type": "markdown",
      "source": [
        "# 입력 데이터\n",
        "데이터는 알고리즘 구현에 필요한 변수값과 사용자가 아이템에 평가한 점수 그리고 추천 결과를 출력할 사용자 ID로 구성됩니다.\n",
        "- Line 1에는 `num_sim_user_top_N` 값이 있습니다. 평점 예측 시 사용할 최근접 이웃 사용자 수입니다.\n",
        "- Line 2에는 `num_item_rec_top_M` 값이 있습니다. 사용자별로 추천해야 하는 아이템 개수입니다.\n",
        "- Line 3, 4에는 각각 `num_users`, `num_items` 값이 있습니다. 해당 테스트 케이스에서 제공되는 데이터에 있는 사용자, 아이템 수입니다.\n",
        "- Line 5에는 `num_rows` 값이 있습니다. 데이터로 제공될 (`user_id`, `item_id`, `rating`) triplet의 개수입니다.\n",
        "- Line 6부터 `num_rows`개의 Line에는 (`user_id`, `item_id`, `rating`) triplet이 있으며 각 값은 공백으로 구분되어 있습니다.\n",
        "- Line (6 + `num_rows`)에는 `num_reco_users` 값이 있습니다. 추천 결과를 만들어야 할 사용자의 수입니다.\n",
        "- Line (6 + `num_rows` + 1)부터 `num_reco_users`개의 Line에는 추천 결과를 만들어야 할 사용자 ID가 있습니다.\n",
        "\n",
        "아래는 예시입니다. _(**주의**: `//` 이하는 데이터에 대한 설명이며 실제 데이터에는 존재하지 않습니다.)_\n",
        "\n",
        "```C\n",
        "2         // num_sim_user_top_N\n",
        "2         // num_item_rec_top_M\n",
        "5         // num_users\n",
        "10        // num_items\n",
        "15        // num_rows\n",
        "1 1 2.34  // 사용자 1이 아이템 1에 2.34점 부여\n",
        "1 2 6.21  // 사용자 1이 아이템 2에 6.21점 부여\n",
        "2 3 1.1   // 사용자 2가 아이템 3에 1.1점 부여\n",
        "...\n",
        "...       // Line 20 (= 5 + num_rows)\n",
        "2         // num_reco_users\n",
        "1         // print num_item_rec_top_M items for user 1\n",
        "2         // print num_item_rec_top_M items for user 2\n",
        "```"
      ],
      "metadata": {
        "id": "CCw8Sut5379p"
      }
    },
    {
      "cell_type": "markdown",
      "source": [
        "## 제한사항\n",
        "- 1 <= `num_sim_user_top_N` <= 100 (integer)\n",
        "- 1 <= `num_item_rec_top_M` <= 30 (integer)\n",
        "- 1 <= `num_users` <= 300 (integer)\n",
        "- 1 <= `num_items` <= 70 (integer)\n",
        "- 1 <= `num_rows` <= 21,000 (integer)\n",
        "- 1 <= `num_reco_users` <= 100 (integer)\n",
        "- 1 <= `user_id` <= 300 (integer)\n",
        "- 1 <= `item_id` <= 70 (integer)\n",
        "- 1.0 <= `rating` <= 10.0 (real number)"
      ],
      "metadata": {
        "id": "nb3A1_Ss4MoY"
      }
    },
    {
      "cell_type": "markdown",
      "source": [
        "# 평가\n",
        "\n",
        "채점은 추천 결과와 정답 데이터의 유사성으로 평가합니다.  \n",
        "_(nDCG: <https://en.wikipedia.org/wiki/Discounted_cumulative_gain>)_\n",
        "\n",
        "채점 코드에서는 정답에서 추천 결과 위치와 제출한 추천 결과 위치가 동일하면 1.0, 다르면 0.7을 부여하는 방식을 사용합니다.\n",
        "\n",
        "간단하게 아래 두 가지 특징을 참고하시기 바랍니다.\n",
        "\n",
        "1. 정답 추천 결과와 최대한 같은 순서로 추천해야 높은 nDCG 값을 얻을 수 있습니다.  \n",
        "    (이 문제의 목적은 Memory-based CF 알고리즘 로직을 정확하게 구현하는 것이지, 더 좋은 추천 결과를 생성하는 것이 아니라는 점을 유념해주시기 바랍니다.)\n",
        "1. 높은 순위의 추천 결과를 틀릴수록 페널티가 큽니다.\n",
        "\n",
        "이렇게 계산한 nDCG가 0.9를 넘으면 해당 테스트 케이스는 정답으로 채점하며, 0.9를 넘지 못하면 해당 테스트 케이스는 오답으로 채점합니다.\n",
        "\n",
        "참고로 Python으로 작성된 nDCG 계산 코드는 아래와 같습니다.\n",
        "\n",
        "```python\n",
        "# evaluation.py\n",
        "import math\n",
        "\n",
        "\n",
        "def ndcg(gt, rec):\n",
        "    idcg = sum([1.0 / math.log(i + 2, 2) for i in range(len(gt))])\n",
        "    dcg = 0.0\n",
        "    for i, r in enumerate(rec):\n",
        "        if r not in gt:\n",
        "            continue\n",
        "        gt_index = gt.index(r)\n",
        "        if i != gt_index:\n",
        "            rel = 0.7\n",
        "        else:\n",
        "            rel = 1.0\n",
        "        dcg += rel / math.log(i + 2, 2)\n",
        "    ndcg = dcg / idcg\n",
        "\n",
        "    return ndcg\n",
        "```\n",
        "\n",
        "위 코드에서 변수 `gt`는 정답 추천 결과이며, 변수 `rec`는 제출된 추천 결과를 의미합니다."
      ],
      "metadata": {
        "id": "gWW-r9dH4PrX"
      }
    },
    {
      "cell_type": "markdown",
      "source": [
        "## 예시\n",
        "\n",
        "```python\n",
        "# 예시 1\n",
        ">>> gt = [1, 2, 3, 4, 5, 6, 7, 8, 9, 10]\n",
        ">>> rec = [1, 2, 3, 4, 5, 6, 7, 8, 9, 10]\n",
        ">>> ndcg(gt, rec)\n",
        "1.0\n",
        "```\n",
        "\n",
        "예시 1은 정답과 완전히 동일한 경우이며, nDCG는 1.0입니다.\n",
        "\n",
        "```python\n",
        "# 예시 2\n",
        ">>> gt = [1, 2, 3, 4, 5, 6, 7, 8, 9, 10]\n",
        ">>> rec = [1, 2, 3, 11, 5, 6, 7, 8, 9, 10]\n",
        ">>> ndcg(gt, rec)\n",
        "0.9052116356304495\n",
        "```\n",
        "\n",
        "예시 2는 네 번째 추천 결과를 틀린 경우입니다.\n",
        "\n",
        "```python\n",
        "# 예시 3\n",
        ">>> gt = [1, 2, 3, 4, 5, 6, 7, 8, 9, 10]\n",
        ">>> rec = [1, 2, 3, 4, 5, 6, 7, 11, 9, 10]\n",
        ">>> ndcg(gt, rec)\n",
        "0.9305687780632229\n",
        "```\n",
        "\n",
        "예시 3은 여덟 번째 추천 결과를 틀린 경우입니다.\n",
        "\n",
        "네 번째 추천 결과를 틀린 예시 2보다는 여덟 번째 추천 결과를 틀린 예시 3의 nDCG가 높습니다.  \n",
        "즉, 높은 순위의 추천 결과를 틀릴수록 nDCG 페널티가 큽니다.\n",
        "\n",
        "예시 1은 정답과 완전히 동일한 경우이며, nDCG는 1.0입니다."
      ],
      "metadata": {
        "id": "5XAcv1KA4bxK"
      }
    },
    {
      "cell_type": "markdown",
      "source": [
        "# 예제 테스트 케이스"
      ],
      "metadata": {
        "id": "TMGiAgyg4vZP"
      }
    },
    {
      "cell_type": "markdown",
      "source": [
        "## 예제 입력\n",
        "\n",
        "\n",
        "```text\n",
        "2\n",
        "2\n",
        "5\n",
        "10\n",
        "15\n",
        "1 1 1.0\n",
        "1 2 2.0\n",
        "1 5 1.2\n",
        "2 2 1.5\n",
        "2 3 3.0\n",
        "3 1 2.2\n",
        "3 2 6.2\n",
        "3 7 1.5\n",
        "4 6 1.2\n",
        "4 3 1.5\n",
        "4 1 3.1\n",
        "4 2 4.0\n",
        "5 4 8.2\n",
        "5 2 6.5\n",
        "5 7 8.0\n",
        "2\n",
        "1\n",
        "2\n",
        "```"
      ],
      "metadata": {
        "id": "qrI8wPtd4xVS"
      }
    },
    {
      "cell_type": "markdown",
      "source": [
        "## 예제 출력\n",
        "\n",
        "```text\n",
        "3 6\n",
        "1 6\n",
        "```"
      ],
      "metadata": {
        "id": "uOVNeD5K4z60"
      }
    },
    {
      "cell_type": "markdown",
      "source": [
        "## 설명\n",
        "\n",
        "위 입력으로부터 얻은 값들은 아래와 같습니다.\n",
        "\n",
        "- Line 1: `num_sim_user_top_N` = 2 (집합 U는 최고 유사 사용자 2명으로 만들어야 함)\n",
        "- Line 2: `num_item_rec_top_M` = 2 (사용자별 추천 결과는 2개를 만들어야 함)\n",
        "- Line 3: `num_users` = 5 (평점 데이터의 사용자 수는 총 5명)\n",
        "- Line 4: `num_items` = 10 (평점 데이터의 아이템 수는 총 10개)\n",
        "- Line 5: `num_rows` = 15 (평점 데이터의 row 개수는 15개)\n",
        "- Line 6~20: 평점 데이터의 triplet (`user_id`, `item_id`, `rating`)\n",
        "- Line 21: `num_reco_users` = 2 (추천 결과를 만들어야 할 사용자 수는 2명)\n",
        "- Line 22~23: 추천 결과를 만들어야 할 사용자의 ID 리스트 (`user_id`= 1, 2에 해당하는 사용자의 추천 결과를 만들어서 출력해야 함)\n",
        "\n",
        "정리하면, 주어진 평점 데이터를 이용해서 사용자 1, 사용자 2에게 각각 추천 결과를 2개씩 만들어주면 됩니다.  \n",
        "식(1)을 이용해 추천 결과를 계산할 때 사용하는 집합 $\\large U$는 추천 결과를 만들어야 할 사용자와 가장 유사한 사용자 2명으로 구성합니다.\n",
        "\n",
        "사용자 1의 경우, 최고 유사 사용자는 사용자 3, 사용자 4이고, 사용자 1과의 유사도는 각각 0.85263, 0.80806입니다.  \n",
        "이렇게 구한 집합 U를 이용해서 식(1)을 계산해서 예상 평점이 가장 높은 아이템 2개를 예상 평점 순으로 내림차순 정렬해서 출력하면 됩니다.  \n",
        "단, 추천 결과를 만들 때는 사용자 1이 기존에 평가한 아이템(샘플에서는 아이템 1, 아이템 2, 아이템 5)은 추천 결과에서 빠져야 하는 점을 유의해주시기 바랍니다.\n",
        "\n",
        "위 출력 예시의 첫 번째 줄에 있는 `3 6`은 정답 소스 코드로 계산한 사용자 1의 추천 결과 1순위는 아이템 3이며, 2순위는 아이템 6이라는 뜻입니다.\n",
        "\n",
        "사용자 1, 사용자 2의 정답 추천 결과와 제출된 추천 결과 간 nDCG 계산 후, 0.9 이상이면 정답 처리합니다."
      ],
      "metadata": {
        "id": "HBn1Ot1A46qJ"
      }
    },
    {
      "cell_type": "markdown",
      "source": [
        "# 풀이"
      ],
      "metadata": {
        "id": "Bl4bKvNeAvI-"
      }
    },
    {
      "cell_type": "markdown",
      "source": [
        "## 표준 라이브러리(Standard Library)"
      ],
      "metadata": {
        "id": "pnRR-3QDVCDh"
      }
    },
    {
      "cell_type": "code",
      "source": [
        "user_ids = [1,1,1,2,2,3,3,3,4,4,4,4,5,5,5]\n",
        "item_ids = [1,2,5,2,3,1,2,7,6,3,1,2,4,2,7]\n",
        "ratings = [1.0, 2.0, 1.2, 1.5, 3.0, 2.2, 6.2, 1.5, 1.2, 1.5, 3.1, 4.0, 8.2, 6.5, 8.0]\n",
        "\n",
        "num_sim_user_top_N = 2\n",
        "num_item_rec_top_N = 2\n",
        "num_users = 5\n",
        "num_items = 10\n",
        "\n",
        "matrix = {}\n",
        "for u in range(1,num_users+1):\n",
        "  matrix[u] = {}\n",
        "  for i in range(1, num_items+1):\n",
        "    matrix[u][i] = None\n",
        "\n",
        "num_rows = 15\n",
        "\n",
        "for n in range(num_rows):\n",
        "  u = user_ids[n]\n",
        "  i = item_ids[n]\n",
        "  rating = ratings[n]\n",
        "  matrix[u][i] = rating\n",
        "\n",
        "num_reco_users = 2\n",
        "active_users = [1,2]"
      ],
      "metadata": {
        "id": "5GRrQhQN5kgq"
      },
      "execution_count": null,
      "outputs": []
    },
    {
      "cell_type": "code",
      "source": [
        "class Model():\n",
        "  def __init__(self, matrix, num_users, num_items, num_sim_user_top_N, num_item_rec_top_N):\n",
        "    self.R = matrix\n",
        "    self.num_users = num_users\n",
        "    self.num_items = num_items\n",
        "    self.num_sim_user_top_N = num_sim_user_top_N\n",
        "    self.num_item_rec_top_N = num_item_rec_top_N\n",
        "    self.simil_matrix = self._get_simil_matrix()\n",
        "    self.null_item_matrix = self._get_null_item_matrix()\n",
        "    self.mean_matrix = self._get_mean_matrix()\n",
        "    self.U = self._get_U()\n",
        "    self.user_rating_items = self._get_rating_item_matrix()\n",
        "\n",
        "  def _get_Ixy(self, x, y):\n",
        "    \"\"\"\n",
        "    사용자 x, y 모두가 평가한 아이템 집합을 구하는 함수\n",
        "    \"\"\"\n",
        "\n",
        "    Ixy = set()\n",
        "    for i in range(1, self.num_items+1):\n",
        "      if self.R[x][i] != None and self.R[y][i] != None:\n",
        "        Ixy.add(i)\n",
        "    return Ixy\n",
        "  \n",
        "  def _get_I(self, u):\n",
        "    \"\"\"\n",
        "    사용자(u)가 평가한 아이템 집합을 구하는 함수\n",
        "    \"\"\"\n",
        "    I = set()\n",
        "    for i in range(1, self.num_items+1):\n",
        "      if self.R[u][i] != None:\n",
        "        I.add(i)\n",
        "    return I\n",
        "\n",
        "  def _simil(self, x, y):\n",
        "      \"\"\"\n",
        "      사용자 x, y의 코사인 유사도를 구하는 함수\n",
        "      \"\"\"\n",
        "      Ixy = self._get_Ixy(x, y)\n",
        "      Ix = self._get_I(x)\n",
        "      Iy = self._get_I(y)\n",
        "\n",
        "      rxi2s = []\n",
        "      ryi2s = []\n",
        "      numerator = []\n",
        "      for i in Ixy:\n",
        "        rxi = self.R[x][i]\n",
        "        ryi = self.R[y][i]\n",
        "        numerator.append((rxi*ryi))\n",
        "      \n",
        "      for i in Ix:\n",
        "        rxi = self.R[x][i]\n",
        "        rxi2s.append((rxi ** 2))\n",
        "      \n",
        "      for i in Iy:\n",
        "        ryi = self.R[y][i]\n",
        "        ryi2s.append((ryi ** 2))\n",
        "      \n",
        "      numerator = sum(numerator)\n",
        "      denominator = (sum(rxi2s)**0.5) * (sum(ryi2s) ** 0.5)\n",
        "      #Cosine similarity 계산이 정의되지 않는 경우\n",
        "      #zero division error가 나올때\n",
        "      if denominator == 0:\n",
        "        return 0\n",
        "      else:\n",
        "        return (numerator / denominator)\n",
        "    \n",
        "  def _get_simil_matrix(self):\n",
        "      \"\"\"\n",
        "      코사인 유사도 매트릭스를 구하는 함수\n",
        "      \"\"\"\n",
        "      simil_matrix = {}\n",
        "      for x in range(1,self.num_users+1):\n",
        "        simil_matrix[x] = {}\n",
        "        for y in range(1, self.num_users+1):\n",
        "          simil_matrix[x][y] = None\n",
        "\n",
        "      for x in range(1, self.num_users+1):\n",
        "        for y in range(1, self.num_users+1):\n",
        "          if x == y:\n",
        "            simil_matrix[x][y] = 1\n",
        "          else:\n",
        "            simil_matrix[x][y] = self._simil(x, y)\n",
        "      return simil_matrix\n",
        "  def _get_rating_item_matrix(self):\n",
        "    \"\"\"\n",
        "    사용자가 평가한 아이템 매트릭스를 구하는 함수\n",
        "\n",
        "    \"\"\"\n",
        "    matrix = {}\n",
        "    for u in range(1, self.num_users+1):\n",
        "      matrix[u] = None\n",
        "    for u in range(1, self.num_users+1):\n",
        "      items = set()\n",
        "      for i in range(1, self.num_items+1):\n",
        "        if self.R[u][i] != None:\n",
        "          items.add(i)\n",
        "      matrix[u] = items\n",
        "    return matrix\n",
        "\n",
        "  def _get_null_item_matrix(self):\n",
        "      \"\"\"\n",
        "      사용자가 아직 평가하지 않은 아이템 매트릭스를 구하는 함수\n",
        "      \"\"\"\n",
        "      matrix = {}\n",
        "      \n",
        "      for u in range(1,self.num_users+1):\n",
        "        matrix[u] = None\n",
        "      \n",
        "      for u in range(1, self.num_users+1):\n",
        "        items = set()\n",
        "        for i in range(1, self.num_items+1):\n",
        "          if self.R[u][i] == None:\n",
        "            items.add(i)\n",
        "        matrix[u] = items\n",
        "      return matrix\n",
        "    \n",
        "  def _get_mean_matrix(self):\n",
        "      \"\"\"\n",
        "      유저의 평균 매트릭스를 구하는 함수\n",
        "      \"\"\"\n",
        "      matrix = {}\n",
        "      for u in range(1, self.num_users+1):\n",
        "        values = []\n",
        "        for i in range(1, self.num_items+1):\n",
        "          if self.R[u][i] == None:\n",
        "            pass\n",
        "          else:\n",
        "            values.append(self.R[u][i])\n",
        "        mean = sum(values) / len(values)\n",
        "        matrix[u] = mean\n",
        "      return matrix\n",
        "\n",
        "  def _get_U(self):\n",
        "    \"\"\"\n",
        "    아이템  i 를 평가한 사용자 u와 가장 유사한 상위 N명의 사용자 집합(피어그룹) U 매트릭스를 구하는 함수\n",
        "    \"\"\"\n",
        "    matrix = {}\n",
        "    \n",
        "    for u in range(1, self.num_users+1):\n",
        "      peergroup = []\n",
        "      sorted_simil_matrix = sorted(self.simil_matrix[u].items(), key = lambda x : x[1], reverse=True)\n",
        "      for i in range(1, len(sorted_simil_matrix)):\n",
        "        user = sorted_simil_matrix[i][0]\n",
        "        peergroup.append(user)\n",
        "      matrix[u] = peergroup[:self.num_sim_user_top_N]\n",
        "\n",
        "    return matrix\n",
        "  def _get_k(self, u):\n",
        "    sum_value = 0\n",
        "    for u_prime in self.U[u]:\n",
        "      sum_value += (self.simil_matrix[u][u_prime])\n",
        "    #식 (1)에서 normalizing factor  k  값이 정의되지 않은 경우에는 0으로 정의\n",
        "    #zero division error가 나올때\n",
        "    if sum_value == 0:\n",
        "      return 0\n",
        "    else:\n",
        "      return (1 / sum_value)\n",
        "\n",
        "  def _get_rui(self, u, i):\n",
        "    ru = self.mean_matrix[u]\n",
        "    k = self._get_k(u)\n",
        "\n",
        "    sum_value = 0\n",
        "    for u_prime in self.U[u]:\n",
        "      r_uprime_i = self.R[u_prime][i]\n",
        "      r_uprime_bar = self.mean_matrix[u_prime] \n",
        "      if r_uprime_i == None:\n",
        "        sum_value += 0\n",
        "      else:\n",
        "        sum_value += self.simil_matrix[u][u_prime] * (r_uprime_i - r_uprime_bar)\n",
        "\n",
        "    return ru + (k * sum_value)\n",
        "  \n",
        "  def recommend(self,u):\n",
        "    null_items = self.null_item_matrix[u]\n",
        "    u_prime_rating_items = set()\n",
        "    recommendation = []\n",
        "    for u_prime in self.U[u]:\n",
        "      u_prime_rating_items = u_prime_rating_items.union(self.user_rating_items[u_prime])\n",
        "\n",
        "    recom_items = null_items.intersection(u_prime_rating_items)\n",
        "    result = []\n",
        "    for i in recom_items:\n",
        "      rui = self._get_rui(u, i)\n",
        "      result.append([i, rui])\n",
        "\n",
        "    result.sort(key=lambda x : x[1], reverse=True)\n",
        "\n",
        "    for i in range(len(result)):\n",
        "      item = result[i][0]\n",
        "      recommendation.append(item)\n",
        "    if len(recommendation) < self.num_item_rec_top_N:\n",
        "      self.num_item_rec_top_N = len(recommendation) \n",
        "    return recommendation[:self.num_item_rec_top_N]\n",
        "\n"
      ],
      "metadata": {
        "id": "j7R47qDLqurf"
      },
      "execution_count": null,
      "outputs": []
    },
    {
      "cell_type": "code",
      "source": [
        "import math\n",
        "\n",
        "def ndcg(gt, rec):\n",
        "    idcg = sum([1.0 / math.log(i + 2, 2) for i in range(len(gt))])\n",
        "    dcg = 0.0\n",
        "    for i, r in enumerate(rec):\n",
        "        if r not in gt:\n",
        "            continue\n",
        "        gt_index = gt.index(r)\n",
        "        if i != gt_index:\n",
        "            rel = 0.7\n",
        "        else:\n",
        "            rel = 1.0\n",
        "        dcg += rel / math.log(i + 2, 2)\n",
        "    ndcg = dcg / idcg\n",
        "\n",
        "    return ndcg"
      ],
      "metadata": {
        "id": "vDIzrmgX7v0G"
      },
      "execution_count": null,
      "outputs": []
    },
    {
      "cell_type": "code",
      "source": [
        "user_ids = [1,1,1,2,2,3,3,3,4,4,4,4,5,5,5]\n",
        "item_ids = [1,2,5,2,3,1,2,7,6,3,1,2,4,2,7]\n",
        "ratings = [1.0, 2.0, 1.2, 1.5, 3.0, 2.2, 6.2, 1.5, 1.2, 1.5, 3.1, 4.0, 8.2, 6.5, 8.0]\n",
        "\n",
        "num_sim_user_top_N = 2\n",
        "num_item_rec_top_N = 2\n",
        "num_users = 5\n",
        "num_items = 10\n",
        "\n",
        "matrix = {}\n",
        "for u in range(1,num_users+1):\n",
        "  matrix[u] = {}\n",
        "  for i in range(1, num_items+1):\n",
        "    matrix[u][i] = None\n",
        "\n",
        "num_rows = 15\n",
        "\n",
        "for n in range(num_rows):\n",
        "  u = user_ids[n]\n",
        "  i = item_ids[n]\n",
        "  rating = ratings[n]\n",
        "  matrix[u][i] = rating\n",
        "\n",
        "num_reco_users = 2\n",
        "active_users = [1,2]"
      ],
      "metadata": {
        "id": "wIkNFYR5bUvQ"
      },
      "execution_count": null,
      "outputs": []
    },
    {
      "cell_type": "code",
      "source": [
        "model = Model(matrix, num_users, num_items, num_sim_user_top_N, num_item_rec_top_N)\n",
        "\n",
        "for user in active_users:\n",
        "  recom = model.recommend(user)\n",
        "  print(recom)"
      ],
      "metadata": {
        "id": "-2vjZzZLMmgi",
        "colab": {
          "base_uri": "https://localhost:8080/"
        },
        "outputId": "ec70635e-cd3c-4242-fed8-58572c524c71"
      },
      "execution_count": null,
      "outputs": [
        {
          "output_type": "stream",
          "name": "stdout",
          "text": [
            "[3, 6]\n",
            "[1, 6]\n"
          ]
        }
      ]
    },
    {
      "cell_type": "markdown",
      "source": [
        "테스팅결과.. 성능은 개선 했지만 0.9이상이 나오지 않는다..\n",
        "대략 0.6~0.7정도의 성능을 보임"
      ],
      "metadata": {
        "id": "3iZiL2py_BkG"
      }
    },
    {
      "cell_type": "markdown",
      "source": [
        "## 외부 라이브러리(Third-Party Library)\n",
        "\n",
        "이전에 만들었던 UserBaseCF모델을 수정하여 활용\n",
        "\n",
        "- pandas\n",
        "- numpy"
      ],
      "metadata": {
        "id": "fBILw09oVE9z"
      }
    },
    {
      "cell_type": "code",
      "source": [
        "import numpy as np\n",
        "import pandas as pd\n",
        "from sklearn.metrics.pairwise import cosine_similarity\n",
        "class UserBaseCF():\n",
        "  def __init__(self, table, num_users, num_items, num_sim_user_top_N, num_item_rec_top_N):\n",
        "    \"\"\"\n",
        "    R : 원본테이블\n",
        "    S : 원본테이블에서 평균값을 뺀 테이블\n",
        "    Cosine : 사용자-사용자 유사도\n",
        "    U : 피어그룹(상관계수가 0보다 크고 자기자신이 아님)\n",
        "    \"\"\"\n",
        "    self.R = table\n",
        "    self.num_users = num_users\n",
        "    self.num_items = num_items\n",
        "    self.num_sim_user_top_N = num_sim_user_top_N\n",
        "    self.num_item_rec_top_N = num_item_rec_top_N\n",
        "    self.S = self._get_S()\n",
        "    self.Cosine = self._consine_similarity()\n",
        "    \n",
        "\n",
        "  # def _similarity(self, x, y):\n",
        "  #   Ixy = self.R.loc[[x,y]].dropna(axis=1).columns\n",
        "  #   Ix = self.R.loc[x].dropna().index\n",
        "  #   Iy = self.R.loc[y].dropna().index\n",
        "    \n",
        "  #   numerator = np.sum(self.R.loc[[x,y], Ixy].product(axis=0))\n",
        "\n",
        "  #   rxi2 = np.sqrt(np.sum(self.R.loc[x, Ix].pow(2)))\n",
        "  #   ryi2 = np.sqrt(np.sum(self.R.loc[y, Iy].pow(2)))\n",
        "    \n",
        "  #   denominator = (rxi2 * ryi2)\n",
        "\n",
        "    \n",
        "  #   return (numerator / denominator)\n",
        "\n",
        "  def _consine_similarity(self):\n",
        "    # matrix = pd.DataFrame()\n",
        "    # for x in self.R.index:\n",
        "    #   for y in self.R.index:\n",
        "    #     matrix.loc[x, y] = self._similarity(x, y)\n",
        "\n",
        "    temp = self.R.fillna(0)\n",
        "\n",
        "    matrix = pd.DataFrame(cosine_similarity(temp,temp), index=self.R.index, columns=self.R.index)\n",
        "\n",
        "    return matrix\n",
        "  def _get_U(self, user_id):\n",
        "    \n",
        "    return self.Cosine.loc[user_id].sort_values(ascending=False)[1:self.num_sim_user_top_N+1].index\n",
        "  def _get_S(self):\n",
        "    \"\"\"\n",
        "    S 테이블을 만드는 함수\n",
        "    \n",
        "    \"\"\"\n",
        "    Mu = self.R.mean(axis=1)\n",
        "    return (self.R.T - Mu).T\n",
        "\n",
        "\n",
        "  def _find_item(self,user_id):\n",
        "    \"\"\"\n",
        "    유저에게 추천할 수 있는 아이템을 찾는 함수\n",
        "    \"\"\"\n",
        "    #유저가 아직 평가하지 않은 아이템\n",
        "    user_null_items = set(self.R.loc[user_id, self.R.loc[user_id].isna()].index)\n",
        "\n",
        "    # 피어그룹이 평가한 아이템 집합\n",
        "    # 피어그룹\n",
        "    U = self._get_U(user_id)\n",
        "    items = set()\n",
        "    for u in U:\n",
        "      items.update(set(self.R.loc[u, ].dropna().index))\n",
        "    recom_items = user_null_items.intersection(items)\n",
        "    return recom_items\n",
        "  def recommend(self, user_id):\n",
        "    \"\"\"\n",
        "    사용자가 아직 평가하지 않은 아이템을 찾고\n",
        "    해당 아이템에 대하여 평점을 예측한 뒤 평점이 높은 순으로 인덱스를 반환하는 함수\n",
        "\n",
        "    \"\"\"\n",
        "    #추천할 수 있는 아이템을 찾음\n",
        "    recom_items  = self._find_item(user_id)\n",
        "    \n",
        "    #유저의 평균\n",
        "    Mu = self.R.mean(axis=1).loc[user_id]\n",
        "    #피어그룹\n",
        "    U = self._get_U(user_id)\n",
        "    #계산\n",
        "    a  = pd.DataFrame(self.S.loc[U,recom_items]).mul(np.array(self.Cosine.loc[user_id, U]), axis=0).sum(axis=0)\n",
        "    \n",
        "    b = np.sum(self.Cosine.loc[user_id, U])\n",
        "    result = (a / b) + Mu\n",
        "    \n",
        "    result.sort_values(ascending=False)\n",
        "    recommendation = result[recom_items].index[:self.num_item_rec_top_N]\n",
        "    return  list(recommendation)"
      ],
      "metadata": {
        "id": "FJx8PNZmVcF3"
      },
      "execution_count": 581,
      "outputs": []
    },
    {
      "cell_type": "code",
      "source": [
        "user_ids = [1,1,1,2,2,3,3,3,4,4,4,4,5,5,5]\n",
        "item_ids = [1,2,5,2,3,1,2,7,6,3,1,2,4,2,7]\n",
        "ratings = [1.0, 2.0, 1.2, 1.5, 3.0, 2.2, 6.2, 1.5, 1.2, 1.5, 3.1, 4.0, 8.2, 6.5, 8.0]\n",
        "\n",
        "num_sim_user_top_N = 2\n",
        "num_item_rec_top_N = 2\n",
        "num_users = 5\n",
        "num_items = 10\n",
        "\n",
        "matrix = pd.DataFrame()\n",
        "\n",
        "\n",
        "\n",
        "num_rows = 15\n",
        "\n",
        "for n in range(num_rows):\n",
        "  u = user_ids[n]\n",
        "  i = item_ids[n]\n",
        "  rating = ratings[n]\n",
        "  matrix.loc[u, i] = rating\n",
        "\n",
        "num_reco_users = 2\n",
        "active_users = [1,2]"
      ],
      "metadata": {
        "id": "HWoKgMEvyqo1"
      },
      "execution_count": 582,
      "outputs": []
    },
    {
      "cell_type": "code",
      "source": [
        "model = UserBaseCF(matrix, num_users, num_items, num_sim_user_top_N, num_item_rec_top_N)\n",
        "model.recommend(1)"
      ],
      "metadata": {
        "colab": {
          "base_uri": "https://localhost:8080/"
        },
        "id": "5T4mTHGn1mjY",
        "outputId": "225257f2-3a2f-4991-c9d6-ff51522a73d4"
      },
      "execution_count": 583,
      "outputs": [
        {
          "output_type": "execute_result",
          "data": {
            "text/plain": [
              "[3, 6]"
            ]
          },
          "metadata": {},
          "execution_count": 583
        }
      ]
    },
    {
      "cell_type": "markdown",
      "source": [
        "pandas, numpy 모듈로 만들었음\n",
        "\n",
        "테스트 결과 성능이 저조함.. 개선 필요"
      ],
      "metadata": {
        "id": "2EjmZZfXgpjP"
      }
    }
  ]
}