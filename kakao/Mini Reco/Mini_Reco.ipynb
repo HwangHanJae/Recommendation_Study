{
  "nbformat": 4,
  "nbformat_minor": 0,
  "metadata": {
    "colab": {
      "provenance": [],
      "toc_visible": true,
      "authorship_tag": "ABX9TyOrDBzaIjhx7LOF7R9xuslb",
      "include_colab_link": true
    },
    "kernelspec": {
      "name": "python3",
      "display_name": "Python 3"
    },
    "language_info": {
      "name": "python"
    }
  },
  "cells": [
    {
      "cell_type": "markdown",
      "metadata": {
        "id": "view-in-github",
        "colab_type": "text"
      },
      "source": [
        "<a href=\"https://colab.research.google.com/github/HwangHanJae/Recommendation_Study/blob/main/kakao/Mini%20Reco/Mini_Reco.ipynb\" target=\"_parent\"><img src=\"https://colab.research.google.com/assets/colab-badge.svg\" alt=\"Open In Colab\"/></a>"
      ]
    },
    {
      "cell_type": "markdown",
      "source": [
        "# 소개\n",
        "\n",
        "이 문제의 목표는 Memory-based Collaborative Filtering 기법 중 하나인 User-based Collaborative filtering 알고리즘을 사용해 추천 시스템을 만드는 것입니다.  \n",
        "아래 알고리즘을 구현하여 Task를 수행하세요."
      ],
      "metadata": {
        "id": "Tn5wIb64u1Vk"
      }
    },
    {
      "cell_type": "markdown",
      "source": [
        "# User-based Collaborative Filtering\n",
        "\n",
        "The [memory-based](https://en.wikipedia.org/wiki/Collaborative_filtering#Memory-based) approach uses user rating data to compute the similarity between users or items. Typical examples of this approach are neighbourhood-based CF and item-based/user-based top-N recommendations. For example, in user based approaches, the value of ratings user $\\large u$ gives to item $\\large i$ is calculated as an aggregation of some similar users' rating of the item:\n",
        "\n",
        "$$\\large r_{u,i} = \\operatorname{aggr}\\limits_{u^\\prime \\in U} r_{u^\\prime, i}$$\n",
        "\n",
        "where $\\large U$ denotes the set of top N users that are most similar to user $\\large u$ who rated item $\\large i$.\n",
        "\n",
        "Some examples of the aggregation function includes:\n",
        "\n",
        "$$\\large \\displaylines{\n",
        "r_{u,i} =& \\frac{1}{N}\\sum\\limits_{u^\\prime \\in U}r_{u^\\prime, i}\\\\\n",
        "r_{u,i} =& k\\sum\\limits_{u^\\prime \\in U}\\operatorname{simil}(u,u^\\prime)r_{u^\\prime, i}\n",
        "}$$\n",
        "\n",
        "where $\\large k$ is a normalizing factor defined as $\\large k = 1/\\sum_{u^\\prime \\in U}|\\operatorname{simil}(u,u^\\prime)|$, and\n",
        "\n",
        "$$\\large \\textbf{(1)} \\qquad r_{u,i} = \\bar{r_u} + k\\sum\\limits_{u^\\prime \\in U}\\operatorname{simil}(u,u^\\prime)(r_{u^\\prime, i}-\\bar{r_{u^\\prime}})$$\n",
        "\n",
        "where $\\large \\bar{r_u}$ is the average rating of user $\\large u$ for all the items rated by $\\large u$.\n",
        "\n",
        "The neighborhood-based algorithm calculates the similarity between two users or items, and produces a prediction for the user by taking the [weighted average](https://en.wikipedia.org/wiki/Weighted_average) of all the ratings. Similarity computation between items or users is an important part of this approach. Multiple measures, such as [Pearson correlation](https://en.wikipedia.org/wiki/Pearson_product-moment_correlation_coefficient) and [vector cosine](https://en.wikipedia.org/wiki/Cosine_similarity) based similarity are used for this.\n",
        "\n",
        "The cosine similarity of two users $\\large x$, $\\large y$ is defined as:\n",
        "\n",
        "$$\\large \\textbf{(2)} \\qquad \\operatorname{simil}(x,y) = \\cos(\\vec x,\\vec y) = \\frac{\\vec x \\cdot \\vec y}{||\\vec x|| \\times ||\\vec y||} = \\frac{\\sum\\limits_{i \\in I_{xy}}r_{x,i}r_{y,i}}{\\sqrt{\\sum\\limits_{i \\in I_{x}}r_{x,i}^2}\\sqrt{\\sum\\limits_{i \\in I_{y}}r_{y,i}^2}}$$\n",
        "\n",
        "where $\\large I_{xy}$ is the set of items that rated by both user $\\large x$ and user $\\large y$.\n",
        "\n",
        "The user based top-N recommendation algorithm uses a similarity-based vector model to identify the $\\large k$ most similar users to an active user. After the $\\large k$ most similar users are found, their corresponding user-item matrices are aggregated to identify the set of items to be recommended."
      ],
      "metadata": {
        "id": "giKyYN-gu74r"
      }
    },
    {
      "cell_type": "markdown",
      "source": [
        "메모리 기반 접근방식은 사용자 평가 데이터를 사용하여 사용자 또는 아이템간의 유사성을 계산합니다. 이 접근방식의 일반적인 예는 이웃 기반 CF와 아이템 기반/사용자 기반 Top-N 추천입니다. 예를들어 사용자 기반 접근방식에서는, 사용자 $u$가 아이템 $i$에 대해 부여한 평점은 아이템에 대한 유사한 사용자를 계산하는데 쓰입니다.\n",
        "\n",
        "$$\\large r_{u,i} = \\operatorname{aggr}\\limits_{u^\\prime \\in U} r_{u^\\prime, i}$$\n",
        "\n",
        "여기서 $U$는 아이템 $i$를 평가한 사용자 $u$와 가장 유사한 상위 $N$명의 사용자 집합(피어그룹)을 나타냅니다.\n",
        "\n",
        "집계 함수의 몇 가지 예는 다음과 같습니다.\n",
        "\n",
        "$$\\large \\displaylines{\n",
        "r_{u,i} =& \\frac{1}{N}\\sum\\limits_{u^\\prime \\in U}r_{u^\\prime, i}\\\\\n",
        "r_{u,i} =& k\\sum\\limits_{u^\\prime \\in U}\\operatorname{simil}(u,u^\\prime)r_{u^\\prime, i}\n",
        "}$$\n",
        "\n",
        "여기서 $\\large k$는 $\\large k = 1/\\sum_{u^\\prime \\in U}|\\operatorname{simil}(u,u^\\prime)|$이고, \n",
        "\n",
        "$$\\large \\textbf{(1)} \\qquad r_{u,i} = \\bar{r_u} + k\\sum\\limits_{u^\\prime \\in U}\\operatorname{simil}(u,u^\\prime)(r_{u^\\prime, i}-\\bar{r_{u^\\prime}})$$\n",
        "\n",
        "여기서 $\\large \\bar{r_u}$는 사용자 $\\large u$가 평가한 모든 아이템에 대한 사용자 $\\large u$의 평균 평점입니다.\n",
        "\n",
        "이웃 기반 알고리즘은 두 사용자 혹은 두 아이템 간의 유사성을 계산하고 모든 평점의 가중 평균을 취하여 사용자에 대한 예측을 생성합니다. 아이템 또는 사용자간의 유사성 계산은 이 접근방식의 중요한 부분입니다. 이를 위해 피어슨 상관계수, 벡터 코사인과 같은 여러 방식이 사용됩니다.\n",
        "\n",
        "두 사용자 $\\large x$, $\\large y$의 코사인 유사도는 다음과 같이 정의됩니다.\n",
        "\n",
        "$$\\large \\textbf{(2)} \\qquad \\operatorname{simil}(x,y) = \\cos(\\vec x,\\vec y) = \\frac{\\vec x \\cdot \\vec y}{||\\vec x|| \\times ||\\vec y||} = \\frac{\\sum\\limits_{i \\in I_{xy}}r_{x,i}r_{y,i}}{\\sqrt{\\sum\\limits_{i \\in I_{x}}r_{x,i}^2}\\sqrt{\\sum\\limits_{i \\in I_{y}}r_{y,i}^2}}$$\n",
        "\n",
        "여기서 $\\large I_{xy}$는 사용자 $\\large x$, $\\large y$ 모두가 평가한 아이템 집합입니다.\n",
        "\n",
        "사용자 기반 top-N 추천 알고리즘은 유사성 기반 벡터 모델을 사용하여 활성 사용자와 가장 유사한 k명의 사용자를 확인합니다.\n",
        "$\\large k$명의 가장 유사한 사용자들을 찾은 후 사용자-아이템 매트릭스를 집계하여 추천할 항목 집합을 확인합니다."
      ],
      "metadata": {
        "id": "R_flDWjIwzdN"
      }
    },
    {
      "cell_type": "markdown",
      "source": [
        "# 문제\n",
        "\n",
        "`num_reco_users`명의 사용자를 위해 User-based Collaborative Filtering 알고리즘으로 추천 결과를 만들어야 합니다.\n",
        "\n",
        "추천 결과를 만드는 방법은 다음과 같습니다.\n",
        "1. 식 (2)를 활용하여 최근접 이웃 집합 $U$를 계산합니다.\n",
        "- $U$는 사용자와 유사도가 가장 높은 `num_sim_user_top_N`명의 최근접 이웃 사용자로 구성됩니다.\n",
        "2. 식 (1)로 생성한 `num_item_rec_top_M`개의 추천 결과를 한 줄로 출력합니다.\n",
        "- 추천 결과의 각 아이템 ID는 공백으로 구분되어야 합니다.\n",
        "- 사용자에게 추천할 수 있는 아이템은 전체 아이템 집합 $I$가아닌 최근접 이웃 $U$가 평가한 아이템 집합 $I^\\prime$입니다.\n"
      ],
      "metadata": {
        "id": "n6M__LXb2ebp"
      }
    },
    {
      "cell_type": "markdown",
      "source": [
        "## 참고사항\n",
        "문제를 해결할 때 아래 내용을 참고하시기 바랍니다.\n",
        "1. 사용자가 이미 평가한 아이템은 추천 결과에 포함하지 않습니다.\n",
        "2. 추천할 수 있는 아이템의 수($n$)가 `num_item_rec_top_M`보다 작은 경우, 그 n개에 대해서만 추천합니다.\n",
        "3. 한 사용자가 같은 아이템을 중복해서 평가한 경우는 없습니다.\n",
        "4. 데이터는 희소 행렬 데이터입니다. 그러므로 모든 사용자와 아이템 쌍에 대한 평가가 존재하는 것은 아닙니다.\n",
        "5. Cosine similarity 계산이 정의되지 않은 경우에는 0으로 정의합니다.\n",
        "6. 식 (1)에서 normalizing factor $k$ 값이 정의되지 않은 경우에는 0으로 정의합니다."
      ],
      "metadata": {
        "id": "iJ0qKPvl3PkM"
      }
    },
    {
      "cell_type": "markdown",
      "source": [
        "# 입력 데이터\n",
        "데이터는 알고리즘 구현에 필요한 변수값과 사용자가 아이템에 평가한 점수 그리고 추천 결과를 출력할 사용자 ID로 구성됩니다.\n",
        "- Line 1에는 `num_sim_user_top_N` 값이 있습니다. 평점 예측 시 사용할 최근접 이웃 사용자 수입니다.\n",
        "- Line 2에는 `num_item_rec_top_M` 값이 있습니다. 사용자별로 추천해야 하는 아이템 개수입니다.\n",
        "- Line 3, 4에는 각각 `num_users`, `num_items` 값이 있습니다. 해당 테스트 케이스에서 제공되는 데이터에 있는 사용자, 아이템 수입니다.\n",
        "- Line 5에는 `num_rows` 값이 있습니다. 데이터로 제공될 (`user_id`, `item_id`, `rating`) triplet의 개수입니다.\n",
        "- Line 6부터 `num_rows`개의 Line에는 (`user_id`, `item_id`, `rating`) triplet이 있으며 각 값은 공백으로 구분되어 있습니다.\n",
        "- Line (6 + `num_rows`)에는 `num_reco_users` 값이 있습니다. 추천 결과를 만들어야 할 사용자의 수입니다.\n",
        "- Line (6 + `num_rows` + 1)부터 `num_reco_users`개의 Line에는 추천 결과를 만들어야 할 사용자 ID가 있습니다.\n",
        "\n",
        "아래는 예시입니다. _(**주의**: `//` 이하는 데이터에 대한 설명이며 실제 데이터에는 존재하지 않습니다.)_\n",
        "\n",
        "```C\n",
        "2         // num_sim_user_top_N\n",
        "2         // num_item_rec_top_M\n",
        "5         // num_users\n",
        "10        // num_items\n",
        "15        // num_rows\n",
        "1 1 2.34  // 사용자 1이 아이템 1에 2.34점 부여\n",
        "1 2 6.21  // 사용자 1이 아이템 2에 6.21점 부여\n",
        "2 3 1.1   // 사용자 2가 아이템 3에 1.1점 부여\n",
        "...\n",
        "...       // Line 20 (= 5 + num_rows)\n",
        "2         // num_reco_users\n",
        "1         // print num_item_rec_top_M items for user 1\n",
        "2         // print num_item_rec_top_M items for user 2\n",
        "```"
      ],
      "metadata": {
        "id": "CCw8Sut5379p"
      }
    },
    {
      "cell_type": "markdown",
      "source": [
        "## 제한사항\n",
        "- 1 <= `num_sim_user_top_N` <= 100 (integer)\n",
        "- 1 <= `num_item_rec_top_M` <= 30 (integer)\n",
        "- 1 <= `num_users` <= 300 (integer)\n",
        "- 1 <= `num_items` <= 70 (integer)\n",
        "- 1 <= `num_rows` <= 21,000 (integer)\n",
        "- 1 <= `num_reco_users` <= 100 (integer)\n",
        "- 1 <= `user_id` <= 300 (integer)\n",
        "- 1 <= `item_id` <= 70 (integer)\n",
        "- 1.0 <= `rating` <= 10.0 (real number)"
      ],
      "metadata": {
        "id": "nb3A1_Ss4MoY"
      }
    },
    {
      "cell_type": "markdown",
      "source": [
        "# 평가\n",
        "\n",
        "채점은 추천 결과와 정답 데이터의 유사성으로 평가합니다.  \n",
        "_(nDCG: <https://en.wikipedia.org/wiki/Discounted_cumulative_gain>)_\n",
        "\n",
        "채점 코드에서는 정답에서 추천 결과 위치와 제출한 추천 결과 위치가 동일하면 1.0, 다르면 0.7을 부여하는 방식을 사용합니다.\n",
        "\n",
        "간단하게 아래 두 가지 특징을 참고하시기 바랍니다.\n",
        "\n",
        "1. 정답 추천 결과와 최대한 같은 순서로 추천해야 높은 nDCG 값을 얻을 수 있습니다.  \n",
        "    (이 문제의 목적은 Memory-based CF 알고리즘 로직을 정확하게 구현하는 것이지, 더 좋은 추천 결과를 생성하는 것이 아니라는 점을 유념해주시기 바랍니다.)\n",
        "1. 높은 순위의 추천 결과를 틀릴수록 페널티가 큽니다.\n",
        "\n",
        "이렇게 계산한 nDCG가 0.9를 넘으면 해당 테스트 케이스는 정답으로 채점하며, 0.9를 넘지 못하면 해당 테스트 케이스는 오답으로 채점합니다.\n",
        "\n",
        "참고로 Python으로 작성된 nDCG 계산 코드는 아래와 같습니다.\n",
        "\n",
        "```python\n",
        "# evaluation.py\n",
        "import math\n",
        "\n",
        "\n",
        "def ndcg(gt, rec):\n",
        "    idcg = sum([1.0 / math.log(i + 2, 2) for i in range(len(gt))])\n",
        "    dcg = 0.0\n",
        "    for i, r in enumerate(rec):\n",
        "        if r not in gt:\n",
        "            continue\n",
        "        gt_index = gt.index(r)\n",
        "        if i != gt_index:\n",
        "            rel = 0.7\n",
        "        else:\n",
        "            rel = 1.0\n",
        "        dcg += rel / math.log(i + 2, 2)\n",
        "    ndcg = dcg / idcg\n",
        "\n",
        "    return ndcg\n",
        "```\n",
        "\n",
        "위 코드에서 변수 `gt`는 정답 추천 결과이며, 변수 `rec`는 제출된 추천 결과를 의미합니다."
      ],
      "metadata": {
        "id": "gWW-r9dH4PrX"
      }
    },
    {
      "cell_type": "markdown",
      "source": [
        "## 예시\n",
        "\n",
        "```python\n",
        "# 예시 1\n",
        ">>> gt = [1, 2, 3, 4, 5, 6, 7, 8, 9, 10]\n",
        ">>> rec = [1, 2, 3, 4, 5, 6, 7, 8, 9, 10]\n",
        ">>> ndcg(gt, rec)\n",
        "1.0\n",
        "```\n",
        "\n",
        "예시 1은 정답과 완전히 동일한 경우이며, nDCG는 1.0입니다.\n",
        "\n",
        "```python\n",
        "# 예시 2\n",
        ">>> gt = [1, 2, 3, 4, 5, 6, 7, 8, 9, 10]\n",
        ">>> rec = [1, 2, 3, 11, 5, 6, 7, 8, 9, 10]\n",
        ">>> ndcg(gt, rec)\n",
        "0.9052116356304495\n",
        "```\n",
        "\n",
        "예시 2는 네 번째 추천 결과를 틀린 경우입니다.\n",
        "\n",
        "```python\n",
        "# 예시 3\n",
        ">>> gt = [1, 2, 3, 4, 5, 6, 7, 8, 9, 10]\n",
        ">>> rec = [1, 2, 3, 4, 5, 6, 7, 11, 9, 10]\n",
        ">>> ndcg(gt, rec)\n",
        "0.9305687780632229\n",
        "```\n",
        "\n",
        "예시 3은 여덟 번째 추천 결과를 틀린 경우입니다.\n",
        "\n",
        "네 번째 추천 결과를 틀린 예시 2보다는 여덟 번째 추천 결과를 틀린 예시 3의 nDCG가 높습니다.  \n",
        "즉, 높은 순위의 추천 결과를 틀릴수록 nDCG 페널티가 큽니다.\n",
        "\n",
        "예시 1은 정답과 완전히 동일한 경우이며, nDCG는 1.0입니다."
      ],
      "metadata": {
        "id": "5XAcv1KA4bxK"
      }
    },
    {
      "cell_type": "markdown",
      "source": [
        "# 예제 테스트 케이스"
      ],
      "metadata": {
        "id": "TMGiAgyg4vZP"
      }
    },
    {
      "cell_type": "markdown",
      "source": [
        "## 예제 입력\n",
        "\n",
        "\n",
        "```text\n",
        "2\n",
        "2\n",
        "5\n",
        "10\n",
        "15\n",
        "1 1 1.0\n",
        "1 2 2.0\n",
        "1 5 1.2\n",
        "2 2 1.5\n",
        "2 3 3.0\n",
        "3 1 2.2\n",
        "3 2 6.2\n",
        "3 7 1.5\n",
        "4 6 1.2\n",
        "4 3 1.5\n",
        "4 1 3.1\n",
        "4 2 4.0\n",
        "5 4 8.2\n",
        "5 2 6.5\n",
        "5 7 8.0\n",
        "2\n",
        "1\n",
        "2\n",
        "```"
      ],
      "metadata": {
        "id": "qrI8wPtd4xVS"
      }
    },
    {
      "cell_type": "markdown",
      "source": [
        "## 예제 출력\n",
        "\n",
        "```text\n",
        "3 6\n",
        "1 6\n",
        "```"
      ],
      "metadata": {
        "id": "uOVNeD5K4z60"
      }
    },
    {
      "cell_type": "markdown",
      "source": [
        "## 설명\n",
        "\n",
        "위 입력으로부터 얻은 값들은 아래와 같습니다.\n",
        "\n",
        "- Line 1: `num_sim_user_top_N` = 2 (집합 U는 최고 유사 사용자 2명으로 만들어야 함)\n",
        "- Line 2: `num_item_rec_top_M` = 2 (사용자별 추천 결과는 2개를 만들어야 함)\n",
        "- Line 3: `num_users` = 5 (평점 데이터의 사용자 수는 총 5명)\n",
        "- Line 4: `num_items` = 10 (평점 데이터의 아이템 수는 총 10개)\n",
        "- Line 5: `num_rows` = 15 (평점 데이터의 row 개수는 15개)\n",
        "- Line 6~20: 평점 데이터의 triplet (`user_id`, `item_id`, `rating`)\n",
        "- Line 21: `num_reco_users` = 2 (추천 결과를 만들어야 할 사용자 수는 2명)\n",
        "- Line 22~23: 추천 결과를 만들어야 할 사용자의 ID 리스트 (`user_id`= 1, 2에 해당하는 사용자의 추천 결과를 만들어서 출력해야 함)\n",
        "\n",
        "정리하면, 주어진 평점 데이터를 이용해서 사용자 1, 사용자 2에게 각각 추천 결과를 2개씩 만들어주면 됩니다.  \n",
        "식(1)을 이용해 추천 결과를 계산할 때 사용하는 집합 $\\large U$는 추천 결과를 만들어야 할 사용자와 가장 유사한 사용자 2명으로 구성합니다.\n",
        "\n",
        "사용자 1의 경우, 최고 유사 사용자는 사용자 3, 사용자 4이고, 사용자 1과의 유사도는 각각 0.85263, 0.80806입니다.  \n",
        "이렇게 구한 집합 U를 이용해서 식(1)을 계산해서 예상 평점이 가장 높은 아이템 2개를 예상 평점 순으로 내림차순 정렬해서 출력하면 됩니다.  \n",
        "단, 추천 결과를 만들 때는 사용자 1이 기존에 평가한 아이템(샘플에서는 아이템 1, 아이템 2, 아이템 5)은 추천 결과에서 빠져야 하는 점을 유의해주시기 바랍니다.\n",
        "\n",
        "위 출력 예시의 첫 번째 줄에 있는 `3 6`은 정답 소스 코드로 계산한 사용자 1의 추천 결과 1순위는 아이템 3이며, 2순위는 아이템 6이라는 뜻입니다.\n",
        "\n",
        "사용자 1, 사용자 2의 정답 추천 결과와 제출된 추천 결과 간 nDCG 계산 후, 0.9 이상이면 정답 처리합니다."
      ],
      "metadata": {
        "id": "HBn1Ot1A46qJ"
      }
    },
    {
      "cell_type": "markdown",
      "source": [
        "# 풀이"
      ],
      "metadata": {
        "id": "Bl4bKvNeAvI-"
      }
    },
    {
      "cell_type": "code",
      "execution_count": null,
      "metadata": {
        "id": "wYNlj_4guuIx"
      },
      "outputs": [],
      "source": [
        "num_sim_user_top_N = int(input())\n",
        "num_item_rec_top_N = int(input())\n",
        "num_users = int(input())\n",
        "num_items = int(input())\n",
        "num_rows = int(input())\n",
        "for _ in range(num_rows):\n",
        "  user_id, item_id, rating = map(float, input().split())\n",
        "num_reco_users = int(input())\n",
        "active_users = []\n",
        "for _ in range(num_reco_users):\n",
        "  active_users.append(int(input()))\n",
        "\n",
        "print(active_users)"
      ]
    },
    {
      "cell_type": "code",
      "source": [
        "user_ids = [1,1,1,2,2,3,3,3,4,4,4,4,5,5,5]\n",
        "item_ids = [1,2,5,2,3,1,2,7,6,3,1,2,4,2,7]\n",
        "ratings = [1.0, 2.0, 1.2, 1.5, 3.0, 2.2, 6.2, 1.5, 1.2, 1.5, 3.1, 4.0, 8.2, 6.5, 8.0]\n",
        "\n",
        "num_sim_user_top_N = 2\n",
        "num_item_rec_top_N = 2\n",
        "num_users = 5\n",
        "num_items = 10\n",
        "\n",
        "matrix = {}\n",
        "for u in range(1,num_users+1):\n",
        "  matrix[u] = {}\n",
        "  for i in range(1, num_items+1):\n",
        "    matrix[u][i] = None\n",
        "\n",
        "num_rows = 15\n",
        "\n",
        "for n in range(num_rows):\n",
        "  u = user_ids[n]\n",
        "  i = item_ids[n]\n",
        "  rating = ratings[n]\n",
        "  matrix[u][i] = rating\n",
        "\n",
        "num_reco_users = 2\n",
        "active_users = [1,2]"
      ],
      "metadata": {
        "id": "5GRrQhQN5kgq"
      },
      "execution_count": null,
      "outputs": []
    },
    {
      "cell_type": "code",
      "source": [
        "#사용자가 평가한 아이템 집합\n",
        "def get_I(x=None, y=None):\n",
        "  I = set()\n",
        "  #사용자 x,y 모두가 평가한 아이템 집합\n",
        "  if x != None and y != None:\n",
        "    for i in range(1, num_items+1):\n",
        "      if matrix[x][i] != None and matrix[y][i] != None:\n",
        "        I.add(i)\n",
        "    return I\n",
        "  #사용자 x가 평가한 아이템집합\n",
        "  elif x != None and y == None:\n",
        "    for i in range(1, num_items+1):\n",
        "      if matrix[x][i] != None:\n",
        "        I.add(i)\n",
        "    return I\n",
        "  #사용자 y가 평가한 아이템집합\n",
        "  elif x == None and y != None:\n",
        "    for i in range(1, num_items+1):\n",
        "      if matrix[y][i] != None:\n",
        "        I.add(i)\n",
        "    return I"
      ],
      "metadata": {
        "id": "_akRODDz7aZ3"
      },
      "execution_count": null,
      "outputs": []
    },
    {
      "cell_type": "code",
      "source": [
        "def simil(x, y):\n",
        "  Ixy = get_I(x, y)\n",
        "  Ix = get_I(x, y=None)\n",
        "  Iy = get_I(x=None, y=y)\n",
        "  rxi2s = []\n",
        "  ryi2s = []\n",
        "  a = 0\n",
        "  for i in Ixy:\n",
        "    rxi = matrix[x][i]\n",
        "    ryi = matrix[y][i]\n",
        "    a += (rxi * ryi)\n",
        "  \n",
        "  for i in Ix:\n",
        "    rxi = matrix[x][i]\n",
        "    rxi2s.append(rxi ** 2)\n",
        "  \n",
        "  for i in Iy:\n",
        "    ryi = matrix[y][i]\n",
        "    ryi2s.append(ryi ** 2)\n",
        "  \n",
        "  b = (sum(rxi2s)**0.5) * (sum(ryi2s) ** 0.5)\n",
        "  \n",
        "  return (a / b)\n",
        "  "
      ],
      "metadata": {
        "id": "jOM1kNHkBYoU"
      },
      "execution_count": null,
      "outputs": []
    },
    {
      "cell_type": "code",
      "source": [
        "def get_simil_matrix():\n",
        "  simil_matrix = {}\n",
        "  for x in range(1,num_users+1):\n",
        "    simil_matrix[x] = {}\n",
        "    for y in range(1, num_users+1):\n",
        "      simil_matrix[x][y] = 0\n",
        "\n",
        "  for x in range(1, num_users+1):\n",
        "    for y in range(1, num_users+1):\n",
        "      if x == y:\n",
        "        simil_matrix[x][y] = 1\n",
        "      else:\n",
        "        try :\n",
        "          simil_matrix[x][y] = simil(x, y)\n",
        "        except:\n",
        "          simil_matrix[x][y] = 0\n",
        "  return simil_matrix\n"
      ],
      "metadata": {
        "id": "z7Ex4enWCObf"
      },
      "execution_count": null,
      "outputs": []
    },
    {
      "cell_type": "code",
      "source": [
        "simil_matrix = get_simil_matrix()\n",
        "def get_U(user_id, num_sim_user_top_N):\n",
        "  sorted_simil_matrix = sorted(simil_matrix[user_id].items(), key = lambda x : x[1], reverse=True)\n",
        "  peergroup = []\n",
        "  for i in range(1, len(sorted_simil_matrix[:num_sim_user_top_N+1])):\n",
        "    user_id = sorted_simil_matrix[i][0]\n",
        "    simil = sorted_simil_matrix[i][1]\n",
        "    peergroup.append(user_id)\n",
        "  return peergroup\n"
      ],
      "metadata": {
        "id": "k892K4waGMT5"
      },
      "execution_count": null,
      "outputs": []
    },
    {
      "cell_type": "code",
      "source": [
        "# 사용자가 아직 평가하지 않은 아이템의 인덱스 구하는 함수\n",
        "def get_null_item_idx(user_id):\n",
        "  indexs = []\n",
        "  for i in matrix[user_id]:\n",
        "    if matrix[user_id][i] == None:\n",
        "      indexs.append(i)\n",
        "  return indexs"
      ],
      "metadata": {
        "id": "DXi81RHkJLma"
      },
      "execution_count": null,
      "outputs": []
    },
    {
      "cell_type": "code",
      "source": [
        "def get_mean(user_id):\n",
        "  lst = []\n",
        "  for i in matrix[user_id]:\n",
        "    if matrix[user_id][i] != None:\n",
        "      lst.append(matrix[user_id][i])\n",
        "  return sum(lst) / len(lst)"
      ],
      "metadata": {
        "id": "-2vjZzZLMmgi"
      },
      "execution_count": null,
      "outputs": []
    },
    {
      "cell_type": "code",
      "source": [
        "def recommend(user_id, num_sim_user_top_N):\n",
        "  null_item_idx = get_null_item_idx(user_id)\n",
        "  U = get_U(user_id, num_sim_user_top_N)\n",
        "  mean = get_mean(user_id)\n",
        "  try:\n",
        "    k = []\n",
        "    for u_prime in U:\n",
        "      k.append(simil_matrix[user_id][u_prime])\n",
        "    k = k.sum()\n",
        "    k = (1 / k)\n",
        "  except:\n",
        "    k = 0\n",
        "  for u_prime in U:\n",
        "    simil_matrix[user_id][u_prime]\n",
        "  "
      ],
      "metadata": {
        "id": "wpI6eAQ9MqA6"
      },
      "execution_count": null,
      "outputs": []
    },
    {
      "cell_type": "code",
      "source": [
        "def predict(user_id, item_id):"
      ],
      "metadata": {
        "id": "DiDz2Dq0R_mt"
      },
      "execution_count": null,
      "outputs": []
    }
  ]
}