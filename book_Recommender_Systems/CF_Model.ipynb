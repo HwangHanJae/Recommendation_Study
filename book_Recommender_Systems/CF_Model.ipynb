{
  "nbformat": 4,
  "nbformat_minor": 0,
  "metadata": {
    "colab": {
      "provenance": [],
      "authorship_tag": "ABX9TyPphsJQGt1eZfBHC1KU8ZLL",
      "include_colab_link": true
    },
    "kernelspec": {
      "name": "python3",
      "display_name": "Python 3"
    },
    "language_info": {
      "name": "python"
    }
  },
  "cells": [
    {
      "cell_type": "markdown",
      "metadata": {
        "id": "view-in-github",
        "colab_type": "text"
      },
      "source": [
        "<a href=\"https://colab.research.google.com/github/HwangHanJae/Recommendation_Study/blob/main/book_Recommender_Systems/CF_Model.ipynb\" target=\"_parent\"><img src=\"https://colab.research.google.com/assets/colab-badge.svg\" alt=\"Open In Colab\"/></a>"
      ]
    },
    {
      "cell_type": "code",
      "source": [
        "import pandas as pd\n",
        "import numpy as np"
      ],
      "metadata": {
        "id": "j46OvN01pHPp"
      },
      "execution_count": 173,
      "outputs": []
    },
    {
      "cell_type": "markdown",
      "source": [
        "# 사용자 기반 협업 필터링 모델"
      ],
      "metadata": {
        "id": "KmBNl3CLzj_o"
      }
    },
    {
      "cell_type": "code",
      "source": [
        "class UserBaseCF():\n",
        "  def __init__(self, table):\n",
        "    \"\"\"\n",
        "    R : 원본테이블\n",
        "    S : 원본테이블에서 평균값을 뺀 테이블\n",
        "    Peason : 사용자-사용자 유사도\n",
        "    peergroup : 피어그룹(상관계수가 0보다 크고 자기자신이 아님)\n",
        "    \"\"\"\n",
        "    self.R = table\n",
        "    self.S = self._get_S()\n",
        "    self.Pearson = self.R.T.corr(method='pearson')\n",
        "    self.peergroup = self._find_peer_group()\n",
        "  def _get_S(self):\n",
        "    \"\"\"\n",
        "    S 테이블을 만드는 함수\n",
        "    \n",
        "    \"\"\"\n",
        "    Mu = self.R.mean(axis=1)\n",
        "    return (R.T - Mu).T\n",
        "  def _find_peer_group(self):\n",
        "    \"\"\"\n",
        "    피어그룹을 찾는 함수\n",
        "    \"\"\"\n",
        "    pearson = self.Pearson\n",
        "    return pearson[(pearson>0) & (pearson < 1)]\n",
        "\n",
        "  def _find_item(self,user_id):\n",
        "    \"\"\"\n",
        "    유저가 아직 평가하지 않은 아이템을 찾는 함수\n",
        "    \"\"\"\n",
        "    index = self.R.loc[user_id, self.R.loc[user_id].isna()].index\n",
        "    return index\n",
        "  def recommend(self, user_id):\n",
        "    \"\"\"\n",
        "    사용자가 아직 평가하지 않은 아이템을 찾고\n",
        "    해당 아이템에 대하여 평점을 예측한 뒤 평점이 높은 순으로 인덱스를 반환하는 함수\n",
        "\n",
        "    \"\"\"\n",
        "    #유저가 아직 평가하지 않은 아이템을 찾음\n",
        "    item_index  = self._find_item(user_id)\n",
        "    #유저의 평균\n",
        "    Mu = self.R.mean(axis=1).loc[user_id]\n",
        "    #피어그룹\n",
        "    peergroup = self.peergroup.loc[user_id].dropna().index\n",
        "    #계산\n",
        "    a  = self.Pearson.loc[user_id, peergroup].dot(self.S.loc[peergroup, item_index])\n",
        "    b = np.sum(self.Pearson.loc[user_id, peergroup])\n",
        "    result = (a / b) + Mu\n",
        "    \n",
        "    result.sort_values(ascending=False)\n",
        "    return  result"
      ],
      "metadata": {
        "id": "dRTxA8I_ovHD"
      },
      "execution_count": 226,
      "outputs": []
    },
    {
      "cell_type": "code",
      "source": [
        "#예제 테이블(R) 정의\n",
        "\n",
        "values = [[7,6,7,4,5,4],\n",
        "         [6,7,None,4,3,4],\n",
        "         [None, 3,3,1,1,None],\n",
        "         [1,2,2,3,3,4],\n",
        "         [1,None,1,2,3,3]]\n",
        "\n",
        "R = pd.DataFrame(values, columns = [1,2,3,4,5,6], index = [1,2,3,4,5])\n",
        "\n",
        "R"
      ],
      "metadata": {
        "colab": {
          "base_uri": "https://localhost:8080/",
          "height": 206
        },
        "id": "baGZK2nRo-P-",
        "outputId": "4e2a7446-6f4f-4cdb-aae7-f23c8847d78f"
      },
      "execution_count": 227,
      "outputs": [
        {
          "output_type": "execute_result",
          "data": {
            "text/plain": [
              "     1    2    3  4  5    6\n",
              "1  7.0  6.0  7.0  4  5  4.0\n",
              "2  6.0  7.0  NaN  4  3  4.0\n",
              "3  NaN  3.0  3.0  1  1  NaN\n",
              "4  1.0  2.0  2.0  3  3  4.0\n",
              "5  1.0  NaN  1.0  2  3  3.0"
            ],
            "text/html": [
              "\n",
              "  <div id=\"df-cdfbddae-9769-4c1e-bcaa-7ce567d19267\">\n",
              "    <div class=\"colab-df-container\">\n",
              "      <div>\n",
              "<style scoped>\n",
              "    .dataframe tbody tr th:only-of-type {\n",
              "        vertical-align: middle;\n",
              "    }\n",
              "\n",
              "    .dataframe tbody tr th {\n",
              "        vertical-align: top;\n",
              "    }\n",
              "\n",
              "    .dataframe thead th {\n",
              "        text-align: right;\n",
              "    }\n",
              "</style>\n",
              "<table border=\"1\" class=\"dataframe\">\n",
              "  <thead>\n",
              "    <tr style=\"text-align: right;\">\n",
              "      <th></th>\n",
              "      <th>1</th>\n",
              "      <th>2</th>\n",
              "      <th>3</th>\n",
              "      <th>4</th>\n",
              "      <th>5</th>\n",
              "      <th>6</th>\n",
              "    </tr>\n",
              "  </thead>\n",
              "  <tbody>\n",
              "    <tr>\n",
              "      <th>1</th>\n",
              "      <td>7.0</td>\n",
              "      <td>6.0</td>\n",
              "      <td>7.0</td>\n",
              "      <td>4</td>\n",
              "      <td>5</td>\n",
              "      <td>4.0</td>\n",
              "    </tr>\n",
              "    <tr>\n",
              "      <th>2</th>\n",
              "      <td>6.0</td>\n",
              "      <td>7.0</td>\n",
              "      <td>NaN</td>\n",
              "      <td>4</td>\n",
              "      <td>3</td>\n",
              "      <td>4.0</td>\n",
              "    </tr>\n",
              "    <tr>\n",
              "      <th>3</th>\n",
              "      <td>NaN</td>\n",
              "      <td>3.0</td>\n",
              "      <td>3.0</td>\n",
              "      <td>1</td>\n",
              "      <td>1</td>\n",
              "      <td>NaN</td>\n",
              "    </tr>\n",
              "    <tr>\n",
              "      <th>4</th>\n",
              "      <td>1.0</td>\n",
              "      <td>2.0</td>\n",
              "      <td>2.0</td>\n",
              "      <td>3</td>\n",
              "      <td>3</td>\n",
              "      <td>4.0</td>\n",
              "    </tr>\n",
              "    <tr>\n",
              "      <th>5</th>\n",
              "      <td>1.0</td>\n",
              "      <td>NaN</td>\n",
              "      <td>1.0</td>\n",
              "      <td>2</td>\n",
              "      <td>3</td>\n",
              "      <td>3.0</td>\n",
              "    </tr>\n",
              "  </tbody>\n",
              "</table>\n",
              "</div>\n",
              "      <button class=\"colab-df-convert\" onclick=\"convertToInteractive('df-cdfbddae-9769-4c1e-bcaa-7ce567d19267')\"\n",
              "              title=\"Convert this dataframe to an interactive table.\"\n",
              "              style=\"display:none;\">\n",
              "        \n",
              "  <svg xmlns=\"http://www.w3.org/2000/svg\" height=\"24px\"viewBox=\"0 0 24 24\"\n",
              "       width=\"24px\">\n",
              "    <path d=\"M0 0h24v24H0V0z\" fill=\"none\"/>\n",
              "    <path d=\"M18.56 5.44l.94 2.06.94-2.06 2.06-.94-2.06-.94-.94-2.06-.94 2.06-2.06.94zm-11 1L8.5 8.5l.94-2.06 2.06-.94-2.06-.94L8.5 2.5l-.94 2.06-2.06.94zm10 10l.94 2.06.94-2.06 2.06-.94-2.06-.94-.94-2.06-.94 2.06-2.06.94z\"/><path d=\"M17.41 7.96l-1.37-1.37c-.4-.4-.92-.59-1.43-.59-.52 0-1.04.2-1.43.59L10.3 9.45l-7.72 7.72c-.78.78-.78 2.05 0 2.83L4 21.41c.39.39.9.59 1.41.59.51 0 1.02-.2 1.41-.59l7.78-7.78 2.81-2.81c.8-.78.8-2.07 0-2.86zM5.41 20L4 18.59l7.72-7.72 1.47 1.35L5.41 20z\"/>\n",
              "  </svg>\n",
              "      </button>\n",
              "      \n",
              "  <style>\n",
              "    .colab-df-container {\n",
              "      display:flex;\n",
              "      flex-wrap:wrap;\n",
              "      gap: 12px;\n",
              "    }\n",
              "\n",
              "    .colab-df-convert {\n",
              "      background-color: #E8F0FE;\n",
              "      border: none;\n",
              "      border-radius: 50%;\n",
              "      cursor: pointer;\n",
              "      display: none;\n",
              "      fill: #1967D2;\n",
              "      height: 32px;\n",
              "      padding: 0 0 0 0;\n",
              "      width: 32px;\n",
              "    }\n",
              "\n",
              "    .colab-df-convert:hover {\n",
              "      background-color: #E2EBFA;\n",
              "      box-shadow: 0px 1px 2px rgba(60, 64, 67, 0.3), 0px 1px 3px 1px rgba(60, 64, 67, 0.15);\n",
              "      fill: #174EA6;\n",
              "    }\n",
              "\n",
              "    [theme=dark] .colab-df-convert {\n",
              "      background-color: #3B4455;\n",
              "      fill: #D2E3FC;\n",
              "    }\n",
              "\n",
              "    [theme=dark] .colab-df-convert:hover {\n",
              "      background-color: #434B5C;\n",
              "      box-shadow: 0px 1px 3px 1px rgba(0, 0, 0, 0.15);\n",
              "      filter: drop-shadow(0px 1px 2px rgba(0, 0, 0, 0.3));\n",
              "      fill: #FFFFFF;\n",
              "    }\n",
              "  </style>\n",
              "\n",
              "      <script>\n",
              "        const buttonEl =\n",
              "          document.querySelector('#df-cdfbddae-9769-4c1e-bcaa-7ce567d19267 button.colab-df-convert');\n",
              "        buttonEl.style.display =\n",
              "          google.colab.kernel.accessAllowed ? 'block' : 'none';\n",
              "\n",
              "        async function convertToInteractive(key) {\n",
              "          const element = document.querySelector('#df-cdfbddae-9769-4c1e-bcaa-7ce567d19267');\n",
              "          const dataTable =\n",
              "            await google.colab.kernel.invokeFunction('convertToInteractive',\n",
              "                                                     [key], {});\n",
              "          if (!dataTable) return;\n",
              "\n",
              "          const docLinkHtml = 'Like what you see? Visit the ' +\n",
              "            '<a target=\"_blank\" href=https://colab.research.google.com/notebooks/data_table.ipynb>data table notebook</a>'\n",
              "            + ' to learn more about interactive tables.';\n",
              "          element.innerHTML = '';\n",
              "          dataTable['output_type'] = 'display_data';\n",
              "          await google.colab.output.renderOutput(dataTable, element);\n",
              "          const docLink = document.createElement('div');\n",
              "          docLink.innerHTML = docLinkHtml;\n",
              "          element.appendChild(docLink);\n",
              "        }\n",
              "      </script>\n",
              "    </div>\n",
              "  </div>\n",
              "  "
            ]
          },
          "metadata": {},
          "execution_count": 227
        }
      ]
    },
    {
      "cell_type": "code",
      "source": [
        "temp = UserBaseCF(R)\n",
        "\n",
        "temp.recommend(3)"
      ],
      "metadata": {
        "colab": {
          "base_uri": "https://localhost:8080/"
        },
        "id": "uIjIxJGap2ye",
        "outputId": "2b7e5611-6bb7-4b5c-da6d-0c2592f6e35e"
      },
      "execution_count": 228,
      "outputs": [
        {
          "output_type": "execute_result",
          "data": {
            "text/plain": [
              "1    3.343864\n",
              "6    0.864318\n",
              "Name: 3, dtype: float64"
            ]
          },
          "metadata": {},
          "execution_count": 228
        }
      ]
    },
    {
      "cell_type": "markdown",
      "source": [
        "3번 사용자가 아직 평가하지 않은 아이템은 1, 6번 아이템입니다.\n",
        "\n",
        "1, 6번 아이템에 대하여 모델은 다음과 같이 예측하였습니다.\n",
        "\n",
        "- 1번 아이템 : 3.34\n",
        "- 6번 아이템 : 0.86\n",
        "\n"
      ],
      "metadata": {
        "id": "kHXc520GybrO"
      }
    },
    {
      "cell_type": "markdown",
      "source": [
        "# 아이템 기반 협업 필터링 모델"
      ],
      "metadata": {
        "id": "qQ478iIJzmva"
      }
    },
    {
      "cell_type": "code",
      "source": [
        "\n",
        "from itertools import combinations_with_replacement\n",
        "\n",
        "class ItemBaseCF():\n",
        "  def __init__(self, table):\n",
        "    self.R  = table\n",
        "    self.S  = self._get_S()\n",
        "    self.AdjustedCosine = self._adjusted_cosine()\n",
        "    self.peergroup = self._find_peer_group()\n",
        "  def _get_S(self):\n",
        "    \"\"\"\n",
        "    S 테이블을 만드는 함수\n",
        "    \"\"\"\n",
        "    Mu = self.R.mean(axis=1)\n",
        "    return (R.T - Mu).T\n",
        "  def _cal_U(self):\n",
        "    return self.R.notnull()\n",
        "\n",
        "  def _cal_adujusted_cosine(self, i, j):\n",
        "    #행렬 S에서 아이템 i, j의 열을 찾음\n",
        "    I_i = self.S.loc[:, i]\n",
        "    I_j = self.S.loc[:, j]\n",
        "    # 두 아이템 i, j에 모두 평가한 유저의 인덱스를 찾음\n",
        "    u = set((I_i + I_j).loc[(I_i + I_j).notnull()].index)\n",
        "    \n",
        "    #평균 중심 행렬(S)에서 sui, suj를 찾음\n",
        "    #조정된 코사인 유사도 계산\n",
        "    sui = self.S.loc[u, i]\n",
        "    suj = self.S.loc[u, j]\n",
        "    sum_sui_2 = np.sum(np.power(sui, 2))\n",
        "    sum_suj_2 = np.sum(np.power(suj, 2))\n",
        "    sqrt_sum_sui = np.sqrt(sum_sui_2)\n",
        "    sqrt_sum_suj = np.sqrt(sum_suj_2)\n",
        "\n",
        "    return np.sum((sui * suj)) / (sqrt_sum_sui * sqrt_sum_suj)\n",
        "  def _adjusted_cosine(self):\n",
        "    temp = pd.DataFrame()\n",
        "    for i, j in combinations_with_replacement(self.R.columns, 2):\n",
        "        temp.loc[i,j] = self._cal_adujusted_cosine(i,j)\n",
        "        temp.loc[j,i] = temp.loc[i, j]\n",
        "    return temp\n",
        "  def _find_peer_group(self):\n",
        "    \"\"\"\n",
        "    피어그룹을 찾는 함수\n",
        "    \"\"\"\n",
        "    adjustedcosine = self.AdjustedCosine\n",
        "    return adjustedcosine[(adjustedcosine > 0) & (adjustedcosine < 1)]\n",
        "  def _find_item(self,user_id):\n",
        "    \"\"\"\n",
        "    유저가 아직 평가하지 않은 아이템을 찾는 함수\n",
        "    \"\"\"\n",
        "    index = self.R.loc[user_id, self.R.loc[user_id].isna()].index\n",
        "    return index\n",
        "  \n",
        "  def recommend(self, user_id):\n",
        "    \"\"\"\n",
        "    사용자가 아직 평가하지 않은 아이템을 찾고\n",
        "    해당 아이템에 대하여 평점을 예측한 뒤 평점이 높은 순으로 인덱스를 반환하는 함수\n",
        "\n",
        "    \"\"\"\n",
        "    #유저가 아직 평가하지 않은 아이템을 찾음\n",
        "    item_index  = self._find_item(user_id)\n",
        "    #피어그룹\n",
        "    result = pd.Series()\n",
        "    \n",
        "    for t in item_index:\n",
        "      peergroup = self.peergroup.loc[t].dropna().index\n",
        "      a = self.AdjustedCosine.loc[peergroup, t].dot(self.R.loc[user_id, peergroup])\n",
        "      b = np.sum(self.AdjustedCosine.loc[peergroup, t])\n",
        "      result.loc[t] = (a/b)\n",
        "      \n",
        "    result.sort_values(ascending=False)\n",
        "    return result  "
      ],
      "metadata": {
        "id": "wZRHMFcVwP22"
      },
      "execution_count": 298,
      "outputs": []
    },
    {
      "cell_type": "code",
      "source": [
        "temp = ItemBaseCF(R)\n",
        "temp.recommend(3)"
      ],
      "metadata": {
        "colab": {
          "base_uri": "https://localhost:8080/"
        },
        "id": "L9kjLOR20I-B",
        "outputId": "092a2131-23bd-4d98-ae29-8647dbfddc94"
      },
      "execution_count": 299,
      "outputs": [
        {
          "output_type": "stream",
          "name": "stderr",
          "text": [
            "<ipython-input-298-484d2aa828cb>:63: DeprecationWarning: The default dtype for empty Series will be 'object' instead of 'float64' in a future version. Specify a dtype explicitly to silence this warning.\n",
            "  result = pd.Series()\n"
          ]
        },
        {
          "output_type": "execute_result",
          "data": {
            "text/plain": [
              "1    3.0\n",
              "6    1.0\n",
              "dtype: float64"
            ]
          },
          "metadata": {},
          "execution_count": 299
        }
      ]
    },
    {
      "cell_type": "markdown",
      "source": [
        "3번 사용자가 아직 평가하지 않은 아이템은 1, 6번 아이템입니다.\n",
        "\n",
        "1, 6번 아이템에 대하여 모델은 다음과 같이 예측하였습니다.\n",
        "\n",
        "- 1번 아이템 : 3.0\n",
        "- 6번 아이템 : 1.0\n",
        "\n"
      ],
      "metadata": {
        "id": "jXlSZ5M3_tTe"
      }
    },
    {
      "cell_type": "markdown",
      "source": [
        "사용자 기반 협업 필터링과 차이점으로는 예측값의 범위가 제한된 범위를 넘어가지 않습니다.\n",
        "\n",
        "6번 아이템의 예측값을 보면\n",
        "\n",
        "- 사용자 기반 : 0.86\n",
        "- 아이템 기반 : 1.0\n",
        "\n",
        "으로 사용자 기반은 평점의 범위를 넘어가는 것을 볼 수 있습니다.\n",
        "\n",
        "또한 일반적으로 아이템 기반의 정확도가 사용자 기반보다 높습니다."
      ],
      "metadata": {
        "id": "zNmhBvxt_0Gh"
      }
    },
    {
      "cell_type": "code",
      "source": [],
      "metadata": {
        "id": "0nxJcJ_Q78xR"
      },
      "execution_count": null,
      "outputs": []
    }
  ]
}