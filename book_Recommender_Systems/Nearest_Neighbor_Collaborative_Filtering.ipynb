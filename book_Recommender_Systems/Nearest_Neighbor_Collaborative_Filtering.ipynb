{
  "nbformat": 4,
  "nbformat_minor": 0,
  "metadata": {
    "colab": {
      "provenance": [],
      "authorship_tag": "ABX9TyOaphdgt2cglklhCSDeHh5t",
      "include_colab_link": true
    },
    "kernelspec": {
      "name": "python3",
      "display_name": "Python 3"
    },
    "language_info": {
      "name": "python"
    }
  },
  "cells": [
    {
      "cell_type": "markdown",
      "metadata": {
        "id": "view-in-github",
        "colab_type": "text"
      },
      "source": [
        "<a href=\"https://colab.research.google.com/github/HwangHanJae/Recommentaion_Study/blob/main/book_Recommender_Systems/Nearest_Neighbor_Collaborative_Filtering.ipynb\" target=\"_parent\"><img src=\"https://colab.research.google.com/assets/colab-badge.svg\" alt=\"Open In Colab\"/></a>"
      ]
    },
    {
      "cell_type": "markdown",
      "source": [
        "# 이웃 기반 협업 필터링\n",
        "| 메모리 기반 알고리즘\n",
        "\n",
        "- 협업필터링의 가장 초기 알고리즘\n",
        "\n",
        "**유사한 사용자들은 평점을 주는 방식에서 유사한 패턴을 보이고 유사한 아이템에는 유사한 평점을 주는 사실을 기반으로 함**\n",
        "\n",
        "\n",
        "\n"
      ],
      "metadata": {
        "id": "Kjma0ptlYJpH"
      }
    },
    {
      "cell_type": "markdown",
      "source": [
        "## 사용자 기반 협업 필터링\n",
        "\n",
        "사용자A 에게 추천을 하기 위하여 사용자A와 유사한 사용자들의 평점을 이용\n",
        "- 예측된 사용자A의 평점은 피어그룹의 각 아이템의 평점에 대한 가중 평균으로 산정\n",
        "  - 가중평균 : 산술평균을 계산할 때 자료 값의 중요도나 영향에 따라 가중치를 반영하여 구한 평균값( 출처 : [위키백과](https://ko.wikipedia.org/wiki/%EA%B0%80%EC%A4%91_%EC%82%B0%EC%88%A0_%ED%8F%89%EA%B7%A0]))"
      ],
      "metadata": {
        "id": "I4qPLkajY43D"
      }
    },
    {
      "cell_type": "markdown",
      "source": [
        "### 사용자 기반 이웃 모델\n",
        "- 평점 예측이 계산되는 타깃 유저와 유사한 사용자를 찾기 위하여 정의\n",
        "- 타깃 유저 i의 이웃을 찾기 위하여 모든 사용자와의 유사도를 계산한다.\n",
        "  - 유사도 계산은 사용자들마다 평점을 내리는 방식이 다를 수 있기 때문에 까다롭다.\n",
        "    - 사용자1은 대부분의 상품을 좋아하는 성향이라 평점을 높게 매길 수 있음\n",
        "    - 사용자2는 대부분의 상품을 싫어하는 성향이라 평점을 낮게 매길 수 있음\n",
        "    - 서로 다른 사용자들은 같은 상품에 대해서만 평가하지 않음\n",
        "\n",
        "위의 문제를 해결하기 위하여 아래의 매커니즘을 확인해야 한다. \n"
      ],
      "metadata": {
        "id": "TcWiN8aIZ8Dn"
      }
    },
    {
      "cell_type": "code",
      "source": [
        "# 라이브러리\n",
        "import pandas as pd\n",
        "import numpy as np\n",
        "import scipy.stats as stats"
      ],
      "metadata": {
        "id": "06eEJkvWS2mF"
      },
      "execution_count": 60,
      "outputs": []
    },
    {
      "cell_type": "markdown",
      "source": [
        "아래는 $m$ 사용자 $n$ 상품의 $m\\times{n}$ 평점 행렬($R=[r_{uj}]$)를 정의한것이다."
      ],
      "metadata": {
        "id": "SIMy0uHedVZF"
      }
    },
    {
      "cell_type": "code",
      "execution_count": 77,
      "metadata": {
        "colab": {
          "base_uri": "https://localhost:8080/",
          "height": 206
        },
        "id": "_mJ5IxZVMtzL",
        "outputId": "b2212f11-3352-4b0a-dca6-2471a05c75f6"
      },
      "outputs": [
        {
          "output_type": "execute_result",
          "data": {
            "text/plain": [
              "     1    2    3  4  5    6\n",
              "1  7.0  6.0  7.0  4  5  4.0\n",
              "2  6.0  7.0  NaN  4  3  4.0\n",
              "3  NaN  3.0  3.0  1  1  NaN\n",
              "4  1.0  2.0  2.0  3  3  4.0\n",
              "5  1.0  NaN  1.0  2  3  3.0"
            ],
            "text/html": [
              "\n",
              "  <div id=\"df-1b8aa964-baa8-4812-a5a4-1fd184f503a8\">\n",
              "    <div class=\"colab-df-container\">\n",
              "      <div>\n",
              "<style scoped>\n",
              "    .dataframe tbody tr th:only-of-type {\n",
              "        vertical-align: middle;\n",
              "    }\n",
              "\n",
              "    .dataframe tbody tr th {\n",
              "        vertical-align: top;\n",
              "    }\n",
              "\n",
              "    .dataframe thead th {\n",
              "        text-align: right;\n",
              "    }\n",
              "</style>\n",
              "<table border=\"1\" class=\"dataframe\">\n",
              "  <thead>\n",
              "    <tr style=\"text-align: right;\">\n",
              "      <th></th>\n",
              "      <th>1</th>\n",
              "      <th>2</th>\n",
              "      <th>3</th>\n",
              "      <th>4</th>\n",
              "      <th>5</th>\n",
              "      <th>6</th>\n",
              "    </tr>\n",
              "  </thead>\n",
              "  <tbody>\n",
              "    <tr>\n",
              "      <th>1</th>\n",
              "      <td>7.0</td>\n",
              "      <td>6.0</td>\n",
              "      <td>7.0</td>\n",
              "      <td>4</td>\n",
              "      <td>5</td>\n",
              "      <td>4.0</td>\n",
              "    </tr>\n",
              "    <tr>\n",
              "      <th>2</th>\n",
              "      <td>6.0</td>\n",
              "      <td>7.0</td>\n",
              "      <td>NaN</td>\n",
              "      <td>4</td>\n",
              "      <td>3</td>\n",
              "      <td>4.0</td>\n",
              "    </tr>\n",
              "    <tr>\n",
              "      <th>3</th>\n",
              "      <td>NaN</td>\n",
              "      <td>3.0</td>\n",
              "      <td>3.0</td>\n",
              "      <td>1</td>\n",
              "      <td>1</td>\n",
              "      <td>NaN</td>\n",
              "    </tr>\n",
              "    <tr>\n",
              "      <th>4</th>\n",
              "      <td>1.0</td>\n",
              "      <td>2.0</td>\n",
              "      <td>2.0</td>\n",
              "      <td>3</td>\n",
              "      <td>3</td>\n",
              "      <td>4.0</td>\n",
              "    </tr>\n",
              "    <tr>\n",
              "      <th>5</th>\n",
              "      <td>1.0</td>\n",
              "      <td>NaN</td>\n",
              "      <td>1.0</td>\n",
              "      <td>2</td>\n",
              "      <td>3</td>\n",
              "      <td>3.0</td>\n",
              "    </tr>\n",
              "  </tbody>\n",
              "</table>\n",
              "</div>\n",
              "      <button class=\"colab-df-convert\" onclick=\"convertToInteractive('df-1b8aa964-baa8-4812-a5a4-1fd184f503a8')\"\n",
              "              title=\"Convert this dataframe to an interactive table.\"\n",
              "              style=\"display:none;\">\n",
              "        \n",
              "  <svg xmlns=\"http://www.w3.org/2000/svg\" height=\"24px\"viewBox=\"0 0 24 24\"\n",
              "       width=\"24px\">\n",
              "    <path d=\"M0 0h24v24H0V0z\" fill=\"none\"/>\n",
              "    <path d=\"M18.56 5.44l.94 2.06.94-2.06 2.06-.94-2.06-.94-.94-2.06-.94 2.06-2.06.94zm-11 1L8.5 8.5l.94-2.06 2.06-.94-2.06-.94L8.5 2.5l-.94 2.06-2.06.94zm10 10l.94 2.06.94-2.06 2.06-.94-2.06-.94-.94-2.06-.94 2.06-2.06.94z\"/><path d=\"M17.41 7.96l-1.37-1.37c-.4-.4-.92-.59-1.43-.59-.52 0-1.04.2-1.43.59L10.3 9.45l-7.72 7.72c-.78.78-.78 2.05 0 2.83L4 21.41c.39.39.9.59 1.41.59.51 0 1.02-.2 1.41-.59l7.78-7.78 2.81-2.81c.8-.78.8-2.07 0-2.86zM5.41 20L4 18.59l7.72-7.72 1.47 1.35L5.41 20z\"/>\n",
              "  </svg>\n",
              "      </button>\n",
              "      \n",
              "  <style>\n",
              "    .colab-df-container {\n",
              "      display:flex;\n",
              "      flex-wrap:wrap;\n",
              "      gap: 12px;\n",
              "    }\n",
              "\n",
              "    .colab-df-convert {\n",
              "      background-color: #E8F0FE;\n",
              "      border: none;\n",
              "      border-radius: 50%;\n",
              "      cursor: pointer;\n",
              "      display: none;\n",
              "      fill: #1967D2;\n",
              "      height: 32px;\n",
              "      padding: 0 0 0 0;\n",
              "      width: 32px;\n",
              "    }\n",
              "\n",
              "    .colab-df-convert:hover {\n",
              "      background-color: #E2EBFA;\n",
              "      box-shadow: 0px 1px 2px rgba(60, 64, 67, 0.3), 0px 1px 3px 1px rgba(60, 64, 67, 0.15);\n",
              "      fill: #174EA6;\n",
              "    }\n",
              "\n",
              "    [theme=dark] .colab-df-convert {\n",
              "      background-color: #3B4455;\n",
              "      fill: #D2E3FC;\n",
              "    }\n",
              "\n",
              "    [theme=dark] .colab-df-convert:hover {\n",
              "      background-color: #434B5C;\n",
              "      box-shadow: 0px 1px 3px 1px rgba(0, 0, 0, 0.15);\n",
              "      filter: drop-shadow(0px 1px 2px rgba(0, 0, 0, 0.3));\n",
              "      fill: #FFFFFF;\n",
              "    }\n",
              "  </style>\n",
              "\n",
              "      <script>\n",
              "        const buttonEl =\n",
              "          document.querySelector('#df-1b8aa964-baa8-4812-a5a4-1fd184f503a8 button.colab-df-convert');\n",
              "        buttonEl.style.display =\n",
              "          google.colab.kernel.accessAllowed ? 'block' : 'none';\n",
              "\n",
              "        async function convertToInteractive(key) {\n",
              "          const element = document.querySelector('#df-1b8aa964-baa8-4812-a5a4-1fd184f503a8');\n",
              "          const dataTable =\n",
              "            await google.colab.kernel.invokeFunction('convertToInteractive',\n",
              "                                                     [key], {});\n",
              "          if (!dataTable) return;\n",
              "\n",
              "          const docLinkHtml = 'Like what you see? Visit the ' +\n",
              "            '<a target=\"_blank\" href=https://colab.research.google.com/notebooks/data_table.ipynb>data table notebook</a>'\n",
              "            + ' to learn more about interactive tables.';\n",
              "          element.innerHTML = '';\n",
              "          dataTable['output_type'] = 'display_data';\n",
              "          await google.colab.output.renderOutput(dataTable, element);\n",
              "          const docLink = document.createElement('div');\n",
              "          docLink.innerHTML = docLinkHtml;\n",
              "          element.appendChild(docLink);\n",
              "        }\n",
              "      </script>\n",
              "    </div>\n",
              "  </div>\n",
              "  "
            ]
          },
          "metadata": {},
          "execution_count": 77
        }
      ],
      "source": [
        "#예제 테이블(R) 정의\n",
        "\n",
        "values = [[7,6,7,4,5,4],\n",
        "         [6,7,None,4,3,4],\n",
        "         [None, 3,3,1,1,None],\n",
        "         [1,2,2,3,3,4],\n",
        "         [1,None,1,2,3,3]]\n",
        "\n",
        "R = pd.DataFrame(values, columns = [1,2,3,4,5,6], index = [1,2,3,4,5])\n",
        "\n",
        "R"
      ]
    },
    {
      "cell_type": "markdown",
      "source": [
        "*$I_u$는 평점행렬($R$)에서 사용자($u$)에 의해 지정된 상품 색인 세트를 말한다.*\n",
        "\n",
        "예를 들어 위의 테이블 R에서  \n",
        "2번 사용자는 첫 번째(1), 두 번째(2), 네 번째(4), 다섯 번째(5), 여섯 번째(6) 아이템에 평점이 매겨져있고, 세 번째(3) 아이템에는 평점이 매겨져있지 않고 결측값(NaN)으로 표현되어 있을 때  \n",
        "$I_2 = \\{1,2,4,5,6\\}$ 라 표현한다.\n",
        "\n",
        "사용자(u), 사용자3(v) 모두가 평점을 매긴 아이템 집합은    \n",
        "$I_{u}\\cap{I_{v}}$라 표현한다."
      ],
      "metadata": {
        "id": "uFYQTSubc5Ay"
      }
    },
    {
      "cell_type": "code",
      "source": [
        "# 사용자(u)가 평가한 아이템 집합을 반환하는 함수\n",
        "# 평가하지 않았다면 None이기 때문에 인덱스를 반환하지 않음\n",
        "def get_I_u(matrix, u):\n",
        "  not_null_index = matrix.loc[u, matrix.loc[u].notnull()].index\n",
        "  return set(not_null_index)\n",
        "\n",
        "#I_2 2번 사용자가 평가한 아이템 집합\n",
        "get_I_u(R, 2)"
      ],
      "metadata": {
        "colab": {
          "base_uri": "https://localhost:8080/"
        },
        "id": "fc518rpBNSXJ",
        "outputId": "78b4c2a0-2098-43a6-8861-4dc22f65ab53"
      },
      "execution_count": 78,
      "outputs": [
        {
          "output_type": "execute_result",
          "data": {
            "text/plain": [
              "{1, 2, 4, 5, 6}"
            ]
          },
          "metadata": {},
          "execution_count": 78
        }
      ]
    },
    {
      "cell_type": "markdown",
      "source": [
        "현실에서의 평점행렬(R)은 희소행렬의 형태로 평점을 매기지 않은 결측값(NaN)이 많이 분포되어 있을 것이다.\n",
        "\n",
        "따라서 $I_{u}\\cap{I_{v}}$는 공집합일수 있고 공집합인 경우도 많다.\n",
        "\n",
        "두 사용자(u, v)의 유사도를 알아내는 방법은 아래와 같이 [피어슨 상관계수](https://ko.wikipedia.org/wiki/%ED%94%BC%EC%96%B4%EC%8A%A8_%EC%83%81%EA%B4%80_%EA%B3%84%EC%88%98)를 이용하는 방법이다.\n",
        "- 피어슨 상관계수 -1 ~ 1의 사이의 값을 가짐\n",
        "  - +1은 완벽한 양의 선형 상관 관계\n",
        "  - -1은 완벽한 음의 선형 상관 관계\n",
        "  - 0은 선형 상관 관계 없음\n",
        "- 여기서는 1과 가까울수록 유사하다고 판단\n"
      ],
      "metadata": {
        "id": "eGwmEBcTfa_e"
      }
    },
    {
      "cell_type": "code",
      "source": [
        "#함수를 직접 만들어 유사도 계산\n",
        "\n",
        "#유저의 평균 계산\n",
        "def get_M_u(matrix, u):\n",
        "  \n",
        "  # I_u = get_I_u(user_id)\n",
        "  # I_u_norm = len(I_u)\n",
        "\n",
        "  # ruk = table.loc[user_id].sum()\n",
        "\n",
        "  # M_u = ruk / I_u_norm\n",
        "  M_u = matrix.loc[u].mean()\n",
        "  return M_u\n",
        "\n",
        "\n",
        "# 피어슨 상관계수\n",
        "# 공분산 / 표준편차(u) * 표준편차(v)\n",
        "def Pearson(matrix, u, v):\n",
        "\n",
        "  I_u = get_I_u(matrix, u)\n",
        "  I_v = get_I_u(matrix, v)\n",
        "  k = I_u.intersection(I_v)\n",
        "  M_u = get_M_u(matrix, u)\n",
        "  M_v = get_M_u(matrix, v)\n",
        "\n",
        "  u_std = np.sqrt(np.sum(np.power((matrix.loc[u, k] - M_u), 2)))\n",
        "  v_std = np.sqrt(np.sum(np.power((matrix.loc[v, k] - M_v),2)))\n",
        "\n",
        "  co = np.sum((matrix.loc[u, k] - M_u) * (matrix.loc[v, k] - M_v))\n",
        "  return co / (u_std * v_std)"
      ],
      "metadata": {
        "id": "sjc4Un6HPd6c"
      },
      "execution_count": 80,
      "outputs": []
    },
    {
      "cell_type": "code",
      "source": [
        "#1번, 3번 사용자의 유사도\n",
        "Pearson(R, 1, 3)"
      ],
      "metadata": {
        "colab": {
          "base_uri": "https://localhost:8080/"
        },
        "id": "fXLJY1eOQgnE",
        "outputId": "b4403ae4-e3f9-485c-9609-cfa1ed054ec7"
      },
      "execution_count": 82,
      "outputs": [
        {
          "output_type": "execute_result",
          "data": {
            "text/plain": [
              "0.8944271909999159"
            ]
          },
          "metadata": {},
          "execution_count": 82
        }
      ]
    },
    {
      "cell_type": "code",
      "source": [
        "#1번, 3번 사용자의 유사도\n",
        "#pandas의 corr()함수를 이용하여 유사도를 계산\n",
        "pearson = R.T.corr(method='pearson')\n",
        "pearson.loc[1,3]"
      ],
      "metadata": {
        "colab": {
          "base_uri": "https://localhost:8080/"
        },
        "id": "8wHmoiUiSEuz",
        "outputId": "15f05c28-353b-40e8-a3a1-b3af8a5933b2"
      },
      "execution_count": 83,
      "outputs": [
        {
          "output_type": "execute_result",
          "data": {
            "text/plain": [
              "0.8944271909999159"
            ]
          },
          "metadata": {},
          "execution_count": 83
        }
      ]
    },
    {
      "cell_type": "markdown",
      "source": [
        "피어슨 계수는 타깃 사용자와 다른 모든 사용자 간의 계산이다.  \n",
        "타깃 사용자의 피어 그룹을 정의하는 한 가지 방법으로는 타깃과 피어슨 계수가 가장 높은 k사용자 집합을 이용하는 것이다.\n",
        "- 이때 k는 Pearson()함수에서 사용된 k와 다름\n",
        "\n",
        "위에서 언급한 것 처럼 사용자들은 평점을 내리는 방식이 다를 수 있다.\n",
        "- 책에서는 평점에 각기 다른 스케일을 부여한다고 나와있음\n",
        "\n",
        "평점 그 자체는 피어 그룹의 평균 평점을 결정하기 전에 행에 대해서 평균을 중심으로 재배열되어야 한다.  \n",
        "\n",
        "사용자 $u$의 아이템 $j$에 대한 평균 중심 평점 $s_{uj}$은 초기 평점 $r_{uj}$에서 사용자의 평균 평점을 빼는 것으로 정의할 수 있다."
      ],
      "metadata": {
        "id": "qaINDL2Djy91"
      }
    },
    {
      "cell_type": "markdown",
      "source": [
        "$$s_{uj}=r_{uj}-μ_{u}$$\n"
      ],
      "metadata": {
        "id": "WQ7DxVAsoUQb"
      }
    },
    {
      "cell_type": "markdown",
      "source": [
        "타깃 사용자 $u$의 상위-$k$ 피어 그룹에서의 아이템에 대한 평균 평점의 가중 평균은 평균 중심 예측에 활용된다.\n",
        "\n",
        "이 예측 뒤에는 타깃 사용자의 평균 평점이 더해져 타깃 사용자 $u$의 아이템 $j$에 대한 평점 $\\hat{r}_{uj}$예측이 이루어진다.\n"
      ],
      "metadata": {
        "id": "Hsy5z_1EodmX"
      }
    },
    {
      "cell_type": "markdown",
      "source": [
        "$$\\hat{r}_{uj} = μ_{u}+\\frac{∑_{u\\in{P_{u}(j)}}^{}Sim(u, v)⋅s_{uj}}{∑_{u\\in{P_{u}(j)}}^{}|Sim(u, v)|}$$\n",
        "\n",
        "$$= μ_{u}+\\frac{∑_{u\\in{P_{u}(j)}}^{}Sim(u, v)⋅(r_{uj}-μ_{u})}{∑_{u\\in{P_{u}(j)}}^{}|Sim(u, v)|}$$"
      ],
      "metadata": {
        "id": "HqpfVWGKmQcC"
      }
    },
    {
      "cell_type": "markdown",
      "source": [
        "$P(j)$는 아이템 $j$에 대해 평점을 매긴 타깃 사용자 $u$의 가장 유사한 사용자 $k$명의 집합 1이라 생각해보면 타깃 사용자 $u$와 매우 낮은 혹은 음의 상관을 보이는 사용자는 제외시키기도 한다.\n",
        "\n",
        "$P(j)$를 어떻게 설정하느냐에 따라 예측된 평점이 달라진다"
      ],
      "metadata": {
        "id": "IA1PnVuupYhx"
      }
    }
  ]
}