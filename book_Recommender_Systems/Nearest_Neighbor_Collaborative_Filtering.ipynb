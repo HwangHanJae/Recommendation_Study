{
  "nbformat": 4,
  "nbformat_minor": 0,
  "metadata": {
    "colab": {
      "provenance": [],
      "toc_visible": true,
      "authorship_tag": "ABX9TyOPOt/xnNukTNu0sfoktxXz",
      "include_colab_link": true
    },
    "kernelspec": {
      "name": "python3",
      "display_name": "Python 3"
    },
    "language_info": {
      "name": "python"
    }
  },
  "cells": [
    {
      "cell_type": "markdown",
      "metadata": {
        "id": "view-in-github",
        "colab_type": "text"
      },
      "source": [
        "<a href=\"https://colab.research.google.com/github/HwangHanJae/Recommentaion_Study/blob/main/book_Recommender_Systems/Nearest_Neighbor_Collaborative_Filtering.ipynb\" target=\"_parent\"><img src=\"https://colab.research.google.com/assets/colab-badge.svg\" alt=\"Open In Colab\"/></a>"
      ]
    },
    {
      "cell_type": "markdown",
      "source": [
        "# 이웃 기반 협업 필터링(메모리 기반 알고리즘)\n",
        "\n",
        "- 협업필터링의 가장 초기 알고리즘\n",
        "\n",
        "**유사한 사용자들은 평점을 주는 방식에서 유사한 패턴을 보이고 유사한 아이템에는 유사한 평점을 주는 사실을 기반으로 함**\n",
        "\n",
        "\n",
        "\n"
      ],
      "metadata": {
        "id": "Kjma0ptlYJpH"
      }
    },
    {
      "cell_type": "markdown",
      "source": [
        "## 사용자 기반 협업 필터링\n",
        "\n",
        "사용자A 에게 추천을 하기 위하여 사용자A와 유사한 사용자들의 평점을 이용\n",
        "- 예측된 사용자A의 평점은 피어그룹의 각 아이템의 평점에 대한 가중 평균으로 산정\n",
        "  - 가중평균 : 산술평균을 계산할 때 자료 값의 중요도나 영향에 따라 가중치를 반영하여 구한 평균값( 출처 : [위키백과](https://ko.wikipedia.org/wiki/%EA%B0%80%EC%A4%91_%EC%82%B0%EC%88%A0_%ED%8F%89%EA%B7%A0]))"
      ],
      "metadata": {
        "id": "I4qPLkajY43D"
      }
    },
    {
      "cell_type": "markdown",
      "source": [
        "### 사용자 기반 이웃 모델\n",
        "- 평점 예측이 계산되는 타깃 유저와 유사한 사용자를 찾기 위하여 정의\n",
        "- 타깃 유저 i의 이웃을 찾기 위하여 모든 사용자와의 유사도를 계산\n",
        "  - 유사도 계산은 사용자들마다 평점을 내리는 방식이 다를 수 있기 때문에 까다로움.\n",
        "    - 사용자1은 대부분의 상품을 좋아하는 성향이라 평점을 높게 매길 수 있음\n",
        "    - 사용자2는 대부분의 상품을 싫어하는 성향이라 평점을 낮게 매길 수 있음\n",
        "    - 서로 다른 사용자들은 같은 상품에 대해서만 평가하지 않음\n",
        "\n",
        "위의 문제를 해결하기 위하여 아래의 매커니즘을 확인해야 합니다.\n"
      ],
      "metadata": {
        "id": "TcWiN8aIZ8Dn"
      }
    },
    {
      "cell_type": "code",
      "source": [
        "# 라이브러리\n",
        "import pandas as pd\n",
        "import numpy as np\n",
        "import scipy.stats as stats"
      ],
      "metadata": {
        "id": "06eEJkvWS2mF"
      },
      "execution_count": null,
      "outputs": []
    },
    {
      "cell_type": "markdown",
      "source": [
        "아래는 $m$ 사용자 $n$ 상품의 $m\\times{n}$ 평점 행렬($R=[r_{uj}]$)를 정의한것입니다."
      ],
      "metadata": {
        "id": "SIMy0uHedVZF"
      }
    },
    {
      "cell_type": "code",
      "execution_count": null,
      "metadata": {
        "colab": {
          "base_uri": "https://localhost:8080/",
          "height": 206
        },
        "id": "_mJ5IxZVMtzL",
        "outputId": "744bc2f3-6048-47d8-d396-175bef15372f"
      },
      "outputs": [
        {
          "output_type": "execute_result",
          "data": {
            "text/plain": [
              "     1    2    3  4  5    6\n",
              "1  7.0  6.0  7.0  4  5  4.0\n",
              "2  6.0  7.0  NaN  4  3  4.0\n",
              "3  NaN  3.0  3.0  1  1  NaN\n",
              "4  1.0  2.0  2.0  3  3  4.0\n",
              "5  1.0  NaN  1.0  2  3  3.0"
            ],
            "text/html": [
              "\n",
              "  <div id=\"df-ee99027d-4b40-4424-981d-1dc8d8182d73\">\n",
              "    <div class=\"colab-df-container\">\n",
              "      <div>\n",
              "<style scoped>\n",
              "    .dataframe tbody tr th:only-of-type {\n",
              "        vertical-align: middle;\n",
              "    }\n",
              "\n",
              "    .dataframe tbody tr th {\n",
              "        vertical-align: top;\n",
              "    }\n",
              "\n",
              "    .dataframe thead th {\n",
              "        text-align: right;\n",
              "    }\n",
              "</style>\n",
              "<table border=\"1\" class=\"dataframe\">\n",
              "  <thead>\n",
              "    <tr style=\"text-align: right;\">\n",
              "      <th></th>\n",
              "      <th>1</th>\n",
              "      <th>2</th>\n",
              "      <th>3</th>\n",
              "      <th>4</th>\n",
              "      <th>5</th>\n",
              "      <th>6</th>\n",
              "    </tr>\n",
              "  </thead>\n",
              "  <tbody>\n",
              "    <tr>\n",
              "      <th>1</th>\n",
              "      <td>7.0</td>\n",
              "      <td>6.0</td>\n",
              "      <td>7.0</td>\n",
              "      <td>4</td>\n",
              "      <td>5</td>\n",
              "      <td>4.0</td>\n",
              "    </tr>\n",
              "    <tr>\n",
              "      <th>2</th>\n",
              "      <td>6.0</td>\n",
              "      <td>7.0</td>\n",
              "      <td>NaN</td>\n",
              "      <td>4</td>\n",
              "      <td>3</td>\n",
              "      <td>4.0</td>\n",
              "    </tr>\n",
              "    <tr>\n",
              "      <th>3</th>\n",
              "      <td>NaN</td>\n",
              "      <td>3.0</td>\n",
              "      <td>3.0</td>\n",
              "      <td>1</td>\n",
              "      <td>1</td>\n",
              "      <td>NaN</td>\n",
              "    </tr>\n",
              "    <tr>\n",
              "      <th>4</th>\n",
              "      <td>1.0</td>\n",
              "      <td>2.0</td>\n",
              "      <td>2.0</td>\n",
              "      <td>3</td>\n",
              "      <td>3</td>\n",
              "      <td>4.0</td>\n",
              "    </tr>\n",
              "    <tr>\n",
              "      <th>5</th>\n",
              "      <td>1.0</td>\n",
              "      <td>NaN</td>\n",
              "      <td>1.0</td>\n",
              "      <td>2</td>\n",
              "      <td>3</td>\n",
              "      <td>3.0</td>\n",
              "    </tr>\n",
              "  </tbody>\n",
              "</table>\n",
              "</div>\n",
              "      <button class=\"colab-df-convert\" onclick=\"convertToInteractive('df-ee99027d-4b40-4424-981d-1dc8d8182d73')\"\n",
              "              title=\"Convert this dataframe to an interactive table.\"\n",
              "              style=\"display:none;\">\n",
              "        \n",
              "  <svg xmlns=\"http://www.w3.org/2000/svg\" height=\"24px\"viewBox=\"0 0 24 24\"\n",
              "       width=\"24px\">\n",
              "    <path d=\"M0 0h24v24H0V0z\" fill=\"none\"/>\n",
              "    <path d=\"M18.56 5.44l.94 2.06.94-2.06 2.06-.94-2.06-.94-.94-2.06-.94 2.06-2.06.94zm-11 1L8.5 8.5l.94-2.06 2.06-.94-2.06-.94L8.5 2.5l-.94 2.06-2.06.94zm10 10l.94 2.06.94-2.06 2.06-.94-2.06-.94-.94-2.06-.94 2.06-2.06.94z\"/><path d=\"M17.41 7.96l-1.37-1.37c-.4-.4-.92-.59-1.43-.59-.52 0-1.04.2-1.43.59L10.3 9.45l-7.72 7.72c-.78.78-.78 2.05 0 2.83L4 21.41c.39.39.9.59 1.41.59.51 0 1.02-.2 1.41-.59l7.78-7.78 2.81-2.81c.8-.78.8-2.07 0-2.86zM5.41 20L4 18.59l7.72-7.72 1.47 1.35L5.41 20z\"/>\n",
              "  </svg>\n",
              "      </button>\n",
              "      \n",
              "  <style>\n",
              "    .colab-df-container {\n",
              "      display:flex;\n",
              "      flex-wrap:wrap;\n",
              "      gap: 12px;\n",
              "    }\n",
              "\n",
              "    .colab-df-convert {\n",
              "      background-color: #E8F0FE;\n",
              "      border: none;\n",
              "      border-radius: 50%;\n",
              "      cursor: pointer;\n",
              "      display: none;\n",
              "      fill: #1967D2;\n",
              "      height: 32px;\n",
              "      padding: 0 0 0 0;\n",
              "      width: 32px;\n",
              "    }\n",
              "\n",
              "    .colab-df-convert:hover {\n",
              "      background-color: #E2EBFA;\n",
              "      box-shadow: 0px 1px 2px rgba(60, 64, 67, 0.3), 0px 1px 3px 1px rgba(60, 64, 67, 0.15);\n",
              "      fill: #174EA6;\n",
              "    }\n",
              "\n",
              "    [theme=dark] .colab-df-convert {\n",
              "      background-color: #3B4455;\n",
              "      fill: #D2E3FC;\n",
              "    }\n",
              "\n",
              "    [theme=dark] .colab-df-convert:hover {\n",
              "      background-color: #434B5C;\n",
              "      box-shadow: 0px 1px 3px 1px rgba(0, 0, 0, 0.15);\n",
              "      filter: drop-shadow(0px 1px 2px rgba(0, 0, 0, 0.3));\n",
              "      fill: #FFFFFF;\n",
              "    }\n",
              "  </style>\n",
              "\n",
              "      <script>\n",
              "        const buttonEl =\n",
              "          document.querySelector('#df-ee99027d-4b40-4424-981d-1dc8d8182d73 button.colab-df-convert');\n",
              "        buttonEl.style.display =\n",
              "          google.colab.kernel.accessAllowed ? 'block' : 'none';\n",
              "\n",
              "        async function convertToInteractive(key) {\n",
              "          const element = document.querySelector('#df-ee99027d-4b40-4424-981d-1dc8d8182d73');\n",
              "          const dataTable =\n",
              "            await google.colab.kernel.invokeFunction('convertToInteractive',\n",
              "                                                     [key], {});\n",
              "          if (!dataTable) return;\n",
              "\n",
              "          const docLinkHtml = 'Like what you see? Visit the ' +\n",
              "            '<a target=\"_blank\" href=https://colab.research.google.com/notebooks/data_table.ipynb>data table notebook</a>'\n",
              "            + ' to learn more about interactive tables.';\n",
              "          element.innerHTML = '';\n",
              "          dataTable['output_type'] = 'display_data';\n",
              "          await google.colab.output.renderOutput(dataTable, element);\n",
              "          const docLink = document.createElement('div');\n",
              "          docLink.innerHTML = docLinkHtml;\n",
              "          element.appendChild(docLink);\n",
              "        }\n",
              "      </script>\n",
              "    </div>\n",
              "  </div>\n",
              "  "
            ]
          },
          "metadata": {},
          "execution_count": 2
        }
      ],
      "source": [
        "#예제 테이블(R) 정의\n",
        "\n",
        "values = [[7,6,7,4,5,4],\n",
        "         [6,7,None,4,3,4],\n",
        "         [None, 3,3,1,1,None],\n",
        "         [1,2,2,3,3,4],\n",
        "         [1,None,1,2,3,3]]\n",
        "\n",
        "R = pd.DataFrame(values, columns = [1,2,3,4,5,6], index = [1,2,3,4,5])\n",
        "\n",
        "R"
      ]
    },
    {
      "cell_type": "markdown",
      "source": [
        "*$I_u$는 평점행렬($R$)에서 사용자($u$)에 의해 지정된 상품 색인 세트를 말합니다.*\n",
        "\n",
        "예를 들어 위의 테이블 R에서  \n",
        "2번 사용자는 첫 번째(1), 두 번째(2), 네 번째(4), 다섯 번째(5), 여섯 번째(6) 아이템에 평점이 매겨져있고, 세 번째(3) 아이템에는 평점이 매겨져있지 않고 결측값(NaN)으로 표현되어 있을 때  \n",
        "$I_2 = \\{1,2,4,5,6\\}$ 라 표현합니다.\n",
        "\n",
        "사용자(u), 사용자3(v) 모두가 평점을 매긴 아이템 집합은    \n",
        "$I_{u}\\cap{I_{v}}$라 표현합니다."
      ],
      "metadata": {
        "id": "uFYQTSubc5Ay"
      }
    },
    {
      "cell_type": "code",
      "source": [
        "# 사용자(u)가 평가한 아이템 집합을 반환하는 함수\n",
        "# 평가하지 않았다면 None이기 때문에 인덱스를 반환하지 않음\n",
        "def get_I_u(matrix, u):\n",
        "  not_null_index = matrix.loc[u, matrix.loc[u].notnull()].index\n",
        "  return set(not_null_index)\n",
        "\n",
        "#I_2 2번 사용자가 평가한 아이템 집합\n",
        "get_I_u(R, 2)"
      ],
      "metadata": {
        "colab": {
          "base_uri": "https://localhost:8080/"
        },
        "id": "fc518rpBNSXJ",
        "outputId": "bb29248f-97ed-486b-af17-0d3258ccf34f"
      },
      "execution_count": null,
      "outputs": [
        {
          "output_type": "execute_result",
          "data": {
            "text/plain": [
              "{1, 2, 4, 5, 6}"
            ]
          },
          "metadata": {},
          "execution_count": 3
        }
      ]
    },
    {
      "cell_type": "markdown",
      "source": [
        "현실에서의 평점행렬(R)은 희소행렬의 형태로 평점을 매기지 않은 결측값(NaN)이 많이 분포되어 있을 것입니다.\n",
        "\n",
        "따라서 $I_{u}\\cap{I_{v}}$는 공집합일수 있고 공집합인 경우도 많습니다.\n",
        "\n",
        "두 사용자(u, v)의 유사도를 알아내는 방법은 아래와 같이 [피어슨 상관계수](https://ko.wikipedia.org/wiki/%ED%94%BC%EC%96%B4%EC%8A%A8_%EC%83%81%EA%B4%80_%EA%B3%84%EC%88%98)를 이용하는 방법입니다.\n",
        "- 피어슨 상관계수 -1 ~ 1의 사이의 값을 가짐\n",
        "  - +1은 완벽한 양의 선형 상관 관계\n",
        "  - -1은 완벽한 음의 선형 상관 관계\n",
        "  - 0은 선형 상관 관계 없음\n",
        "- 여기서는 1과 가까울수록 유사하다고 판단\n"
      ],
      "metadata": {
        "id": "eGwmEBcTfa_e"
      }
    },
    {
      "cell_type": "code",
      "source": [
        "#함수를 직접 만들어 유사도 계산\n",
        "\n",
        "#유저의 평균 계산\n",
        "def get_M_u(matrix, u):\n",
        "  \n",
        "  # I_u = get_I_u(user_id)\n",
        "  # I_u_norm = len(I_u)\n",
        "\n",
        "  # ruk = table.loc[user_id].sum()\n",
        "\n",
        "  # M_u = ruk / I_u_norm\n",
        "  M_u = matrix.loc[u].mean()\n",
        "  return M_u\n",
        "\n",
        "\n",
        "# 피어슨 상관계수\n",
        "# 공분산 / 표준편차(u) * 표준편차(v)\n",
        "def Pearson(matrix, u, v):\n",
        "\n",
        "  I_u = get_I_u(matrix, u)\n",
        "  I_v = get_I_u(matrix, v)\n",
        "  k = I_u.intersection(I_v)\n",
        "  M_u = get_M_u(matrix, u)\n",
        "  M_v = get_M_u(matrix, v)\n",
        "\n",
        "  u_std = np.sqrt(np.sum(np.power((matrix.loc[u, k] - M_u), 2)))\n",
        "  v_std = np.sqrt(np.sum(np.power((matrix.loc[v, k] - M_v),2)))\n",
        "\n",
        "  co = np.sum((matrix.loc[u, k] - M_u) * (matrix.loc[v, k] - M_v))\n",
        "  return co / (u_std * v_std)"
      ],
      "metadata": {
        "id": "sjc4Un6HPd6c"
      },
      "execution_count": null,
      "outputs": []
    },
    {
      "cell_type": "code",
      "source": [
        "#1번, 3번 사용자의 유사도\n",
        "Pearson(R, 1, 3)"
      ],
      "metadata": {
        "colab": {
          "base_uri": "https://localhost:8080/"
        },
        "id": "fXLJY1eOQgnE",
        "outputId": "90a837b1-01f8-42eb-c527-3a2fc0b86ab2"
      },
      "execution_count": null,
      "outputs": [
        {
          "output_type": "execute_result",
          "data": {
            "text/plain": [
              "0.8944271909999159"
            ]
          },
          "metadata": {},
          "execution_count": 5
        }
      ]
    },
    {
      "cell_type": "code",
      "source": [
        "#1번, 3번 사용자의 유사도\n",
        "#pandas의 corr()함수를 이용하여 유사도를 계산\n",
        "pearson = R.T.corr(method='pearson')\n",
        "pearson.loc[1,3]"
      ],
      "metadata": {
        "colab": {
          "base_uri": "https://localhost:8080/"
        },
        "id": "8wHmoiUiSEuz",
        "outputId": "56ad53ab-6207-4826-835e-2a85aeb273d7"
      },
      "execution_count": null,
      "outputs": [
        {
          "output_type": "execute_result",
          "data": {
            "text/plain": [
              "0.8944271909999159"
            ]
          },
          "metadata": {},
          "execution_count": 92
        }
      ]
    },
    {
      "cell_type": "markdown",
      "source": [
        "피어슨 계수는 타깃 사용자와 다른 모든 사용자 간의 계산입니다.  \n",
        "타깃 사용자의 피어 그룹을 정의하는 한 가지 방법으로는 타깃과 피어슨 계수가 가장 높은 k사용자 집합을 이용하는 것입니다.\n",
        "- 이때 k는 Pearson()함수에서 사용된 k와 다름\n",
        "\n",
        "위에서 언급한 것 처럼 사용자들은 평점을 내리는 방식이 다를 수 있습니다.\n",
        "- 책에서는 평점에 각기 다른 스케일을 부여한다고 나와있음\n",
        "\n",
        "평점 그 자체는 피어 그룹의 평균 평점을 결정하기 전에 행에 대해서 평균을 중심으로 재배열되어야 합니다.  \n",
        "\n",
        "사용자 $u$의 아이템 $j$에 대한 평균 중심 평점 $s_{uj}$은 초기 평점 $r_{uj}$에서 사용자의 평균 평점을 빼는 것으로 정의할 수 있습니다."
      ],
      "metadata": {
        "id": "qaINDL2Djy91"
      }
    },
    {
      "cell_type": "markdown",
      "source": [
        "$$s_{uj}=r_{uj}-μ_{u}$$\n"
      ],
      "metadata": {
        "id": "WQ7DxVAsoUQb"
      }
    },
    {
      "cell_type": "markdown",
      "source": [
        "타깃 사용자 $u$의 상위-$k$ 피어 그룹에서의 아이템에 대한 평균 평점의 가중 평균은 평균 중심 예측에 활용됩니다.\n",
        "\n",
        "이 예측 뒤에는 타깃 사용자의 평균 평점이 더해져 타깃 사용자 $u$의 아이템 $j$에 대한 평점 $\\hat{r}_{uj}$예측이 이루어집니다.\n"
      ],
      "metadata": {
        "id": "Hsy5z_1EodmX"
      }
    },
    {
      "cell_type": "markdown",
      "source": [
        "$$\\hat{r}_{uj} = μ_{u}+\\frac{∑_{v\\in{P_{u}(j)}}^{}Sim(u, v)⋅s_{vj}}{∑_{v\\in{P_{u}(j)}}^{}|Sim(u, v)|}$$\n",
        "\n",
        "$$= μ_{u}+\\frac{∑_{v\\in{P_{u}(j)}}^{}Sim(u, v)⋅(r_{vj}-μ_{v})}{∑_{v\\in{P_{u}(j)}}^{}|Sim(u, v)|}$$"
      ],
      "metadata": {
        "id": "HqpfVWGKmQcC"
      }
    },
    {
      "cell_type": "markdown",
      "source": [
        "$P(j)$는 아이템 $j$에 대해 평점을 매긴 타깃 사용자 $u$의 가장 유사한 사용자 $k$명의 집합 1이라 생각해보면 타깃 사용자 $u$와 매우 낮은 혹은 음의 상관을 보이는 사용자는 제외시키기도 합니다.\n",
        "\n",
        "$P(j)$를 어떻게 설정하느냐에 따라 예측된 평점이 달라집니다"
      ],
      "metadata": {
        "id": "IA1PnVuupYhx"
      }
    },
    {
      "cell_type": "markdown",
      "source": [
        "### 사용자 기반 알고리즘 예시"
      ],
      "metadata": {
        "id": "kVQn5L6ESChs"
      }
    },
    {
      "cell_type": "markdown",
      "source": [
        "테이블 R을 기반으로 3번 사용자의 가장 상위 아이템을 예측하기 위하여  \n",
        "3번 사용자의 NaN값인 1번, 6번 아이템을 예측해야 합니다."
      ],
      "metadata": {
        "id": "v6kt2GP_S4f_"
      }
    },
    {
      "cell_type": "code",
      "source": [
        "R"
      ],
      "metadata": {
        "colab": {
          "base_uri": "https://localhost:8080/",
          "height": 206
        },
        "id": "XKtOkEx5Sz00",
        "outputId": "e0cf7d8a-714c-4a9a-889d-f0714785e86e"
      },
      "execution_count": null,
      "outputs": [
        {
          "output_type": "execute_result",
          "data": {
            "text/plain": [
              "     1    2    3  4  5    6\n",
              "1  7.0  6.0  7.0  4  5  4.0\n",
              "2  6.0  7.0  NaN  4  3  4.0\n",
              "3  NaN  3.0  3.0  1  1  NaN\n",
              "4  1.0  2.0  2.0  3  3  4.0\n",
              "5  1.0  NaN  1.0  2  3  3.0"
            ],
            "text/html": [
              "\n",
              "  <div id=\"df-1701f4f7-a951-4ea6-b30b-3861e9678ac5\">\n",
              "    <div class=\"colab-df-container\">\n",
              "      <div>\n",
              "<style scoped>\n",
              "    .dataframe tbody tr th:only-of-type {\n",
              "        vertical-align: middle;\n",
              "    }\n",
              "\n",
              "    .dataframe tbody tr th {\n",
              "        vertical-align: top;\n",
              "    }\n",
              "\n",
              "    .dataframe thead th {\n",
              "        text-align: right;\n",
              "    }\n",
              "</style>\n",
              "<table border=\"1\" class=\"dataframe\">\n",
              "  <thead>\n",
              "    <tr style=\"text-align: right;\">\n",
              "      <th></th>\n",
              "      <th>1</th>\n",
              "      <th>2</th>\n",
              "      <th>3</th>\n",
              "      <th>4</th>\n",
              "      <th>5</th>\n",
              "      <th>6</th>\n",
              "    </tr>\n",
              "  </thead>\n",
              "  <tbody>\n",
              "    <tr>\n",
              "      <th>1</th>\n",
              "      <td>7.0</td>\n",
              "      <td>6.0</td>\n",
              "      <td>7.0</td>\n",
              "      <td>4</td>\n",
              "      <td>5</td>\n",
              "      <td>4.0</td>\n",
              "    </tr>\n",
              "    <tr>\n",
              "      <th>2</th>\n",
              "      <td>6.0</td>\n",
              "      <td>7.0</td>\n",
              "      <td>NaN</td>\n",
              "      <td>4</td>\n",
              "      <td>3</td>\n",
              "      <td>4.0</td>\n",
              "    </tr>\n",
              "    <tr>\n",
              "      <th>3</th>\n",
              "      <td>NaN</td>\n",
              "      <td>3.0</td>\n",
              "      <td>3.0</td>\n",
              "      <td>1</td>\n",
              "      <td>1</td>\n",
              "      <td>NaN</td>\n",
              "    </tr>\n",
              "    <tr>\n",
              "      <th>4</th>\n",
              "      <td>1.0</td>\n",
              "      <td>2.0</td>\n",
              "      <td>2.0</td>\n",
              "      <td>3</td>\n",
              "      <td>3</td>\n",
              "      <td>4.0</td>\n",
              "    </tr>\n",
              "    <tr>\n",
              "      <th>5</th>\n",
              "      <td>1.0</td>\n",
              "      <td>NaN</td>\n",
              "      <td>1.0</td>\n",
              "      <td>2</td>\n",
              "      <td>3</td>\n",
              "      <td>3.0</td>\n",
              "    </tr>\n",
              "  </tbody>\n",
              "</table>\n",
              "</div>\n",
              "      <button class=\"colab-df-convert\" onclick=\"convertToInteractive('df-1701f4f7-a951-4ea6-b30b-3861e9678ac5')\"\n",
              "              title=\"Convert this dataframe to an interactive table.\"\n",
              "              style=\"display:none;\">\n",
              "        \n",
              "  <svg xmlns=\"http://www.w3.org/2000/svg\" height=\"24px\"viewBox=\"0 0 24 24\"\n",
              "       width=\"24px\">\n",
              "    <path d=\"M0 0h24v24H0V0z\" fill=\"none\"/>\n",
              "    <path d=\"M18.56 5.44l.94 2.06.94-2.06 2.06-.94-2.06-.94-.94-2.06-.94 2.06-2.06.94zm-11 1L8.5 8.5l.94-2.06 2.06-.94-2.06-.94L8.5 2.5l-.94 2.06-2.06.94zm10 10l.94 2.06.94-2.06 2.06-.94-2.06-.94-.94-2.06-.94 2.06-2.06.94z\"/><path d=\"M17.41 7.96l-1.37-1.37c-.4-.4-.92-.59-1.43-.59-.52 0-1.04.2-1.43.59L10.3 9.45l-7.72 7.72c-.78.78-.78 2.05 0 2.83L4 21.41c.39.39.9.59 1.41.59.51 0 1.02-.2 1.41-.59l7.78-7.78 2.81-2.81c.8-.78.8-2.07 0-2.86zM5.41 20L4 18.59l7.72-7.72 1.47 1.35L5.41 20z\"/>\n",
              "  </svg>\n",
              "      </button>\n",
              "      \n",
              "  <style>\n",
              "    .colab-df-container {\n",
              "      display:flex;\n",
              "      flex-wrap:wrap;\n",
              "      gap: 12px;\n",
              "    }\n",
              "\n",
              "    .colab-df-convert {\n",
              "      background-color: #E8F0FE;\n",
              "      border: none;\n",
              "      border-radius: 50%;\n",
              "      cursor: pointer;\n",
              "      display: none;\n",
              "      fill: #1967D2;\n",
              "      height: 32px;\n",
              "      padding: 0 0 0 0;\n",
              "      width: 32px;\n",
              "    }\n",
              "\n",
              "    .colab-df-convert:hover {\n",
              "      background-color: #E2EBFA;\n",
              "      box-shadow: 0px 1px 2px rgba(60, 64, 67, 0.3), 0px 1px 3px 1px rgba(60, 64, 67, 0.15);\n",
              "      fill: #174EA6;\n",
              "    }\n",
              "\n",
              "    [theme=dark] .colab-df-convert {\n",
              "      background-color: #3B4455;\n",
              "      fill: #D2E3FC;\n",
              "    }\n",
              "\n",
              "    [theme=dark] .colab-df-convert:hover {\n",
              "      background-color: #434B5C;\n",
              "      box-shadow: 0px 1px 3px 1px rgba(0, 0, 0, 0.15);\n",
              "      filter: drop-shadow(0px 1px 2px rgba(0, 0, 0, 0.3));\n",
              "      fill: #FFFFFF;\n",
              "    }\n",
              "  </style>\n",
              "\n",
              "      <script>\n",
              "        const buttonEl =\n",
              "          document.querySelector('#df-1701f4f7-a951-4ea6-b30b-3861e9678ac5 button.colab-df-convert');\n",
              "        buttonEl.style.display =\n",
              "          google.colab.kernel.accessAllowed ? 'block' : 'none';\n",
              "\n",
              "        async function convertToInteractive(key) {\n",
              "          const element = document.querySelector('#df-1701f4f7-a951-4ea6-b30b-3861e9678ac5');\n",
              "          const dataTable =\n",
              "            await google.colab.kernel.invokeFunction('convertToInteractive',\n",
              "                                                     [key], {});\n",
              "          if (!dataTable) return;\n",
              "\n",
              "          const docLinkHtml = 'Like what you see? Visit the ' +\n",
              "            '<a target=\"_blank\" href=https://colab.research.google.com/notebooks/data_table.ipynb>data table notebook</a>'\n",
              "            + ' to learn more about interactive tables.';\n",
              "          element.innerHTML = '';\n",
              "          dataTable['output_type'] = 'display_data';\n",
              "          await google.colab.output.renderOutput(dataTable, element);\n",
              "          const docLink = document.createElement('div');\n",
              "          docLink.innerHTML = docLinkHtml;\n",
              "          element.appendChild(docLink);\n",
              "        }\n",
              "      </script>\n",
              "    </div>\n",
              "  </div>\n",
              "  "
            ]
          },
          "metadata": {},
          "execution_count": 8
        }
      ]
    },
    {
      "cell_type": "code",
      "source": [
        "#예측해야할 아이템을 찾는 함수\n",
        "def find_predict_item_index(table, user_id):\n",
        "  index = table.loc[user_id, table.loc[user_id].isna()].index\n",
        "  return set(index)"
      ],
      "metadata": {
        "id": "jr2Y8A_JTTHz"
      },
      "execution_count": null,
      "outputs": []
    },
    {
      "cell_type": "code",
      "source": [
        "find_predict_item_index(R, 3)"
      ],
      "metadata": {
        "colab": {
          "base_uri": "https://localhost:8080/"
        },
        "id": "hIxXR9meXycm",
        "outputId": "b7f4ecf4-2282-46e5-a814-524b0fc0b53a"
      },
      "execution_count": null,
      "outputs": [
        {
          "output_type": "execute_result",
          "data": {
            "text/plain": [
              "{1, 6}"
            ]
          },
          "metadata": {},
          "execution_count": 22
        }
      ]
    },
    {
      "cell_type": "markdown",
      "source": [
        "예측해야하는 item의 index를 찾았다면 $P(j)$ 피어그룹을 찾아야합니다.\n",
        "\n",
        "피어그룹을 찾기 위하여 유사도를 계산해야 합니다.\n",
        "\n",
        "여기서는 유사도를 구할때 피어슨 상관계수로 구합니다.  \n",
        "- 코사인 유사도를 사용할 수도 있음\n",
        "\n",
        "피어슨 상관계수를 사용할 경우 음의 상관계수와 상관이 없는 0의 값을 가진 데이터는 제외하도록 설정할 수 있습니다."
      ],
      "metadata": {
        "id": "4gzPIlJ2Xvzz"
      }
    },
    {
      "cell_type": "code",
      "source": [
        "#피어슨 상관계수를 기반으로 피어그룹을 찾는 함수\n",
        "#j는 피어그룹의 크기,\n",
        "def find_peer_group(table, user_id, j):\n",
        "  #피어슨 상관계수 구하기\n",
        "  pearson = table.T.corr(method='pearson')\n",
        "  pearson = pearson.loc[user_id]\n",
        "  # 조건 : 상관계수가 0보다 크고 자기자신이 아닌 데이터\n",
        "  condition = (pearson > 0) & (pearson.index != user_id)\n",
        "  peer_group  = pearson[condition].index[:j]\n",
        "\n",
        "  return set(peer_group)"
      ],
      "metadata": {
        "id": "qkhYtsyfYM6E"
      },
      "execution_count": null,
      "outputs": []
    },
    {
      "cell_type": "code",
      "source": [
        "find_peer_group(R,3)"
      ],
      "metadata": {
        "colab": {
          "base_uri": "https://localhost:8080/"
        },
        "id": "iuoehsNjTajT",
        "outputId": "1d1f771f-4d88-44c8-d24c-1a6a99de4d29"
      },
      "execution_count": null,
      "outputs": [
        {
          "output_type": "execute_result",
          "data": {
            "text/plain": [
              "{1, 2}"
            ]
          },
          "metadata": {},
          "execution_count": 74
        }
      ]
    },
    {
      "cell_type": "markdown",
      "source": [
        "#### 평점 예측하기(basic)\n",
        "\n",
        "$$\\hat{r_{uj}} = \\frac{∑_{k∈peer\\_group}^{}(r_{kj}  * Pearson(u,k))}{∑_{k\\in{peer\\_group}}^{}Pearson(u,k)}$$"
      ],
      "metadata": {
        "id": "lmezToaxcsQG"
      }
    },
    {
      "cell_type": "code",
      "source": [
        "def predict_r(table, user_id, item_id, j=5):\n",
        "  #예측해야하는 아이템의 id를 찾음\n",
        "  #item_idx = find_predict_item_index(table, user_id)\n",
        "\n",
        "  #피어그룹 찾기\n",
        "  peer_group = find_peer_group(table, user_id, j)\n",
        "\n",
        "  #관측값(실제값)\n",
        "  r = table.loc[peer_group, item_id].values\n",
        "\n",
        "  #피어슨 상관계수 계산\n",
        "  #Pearson(R, user_id, item_id)\n",
        "  pearson = table.T.corr(method='pearson')\n",
        "  #분모\n",
        "  denominator = np.sum(pearson.loc[user_id, peer_group])\n",
        "  #분자\n",
        "  numerator = np.sum((r * pearson.loc[user_id, peer_group]))\n",
        "  r_hat = (numerator / denominator)\n",
        "  return r_hat"
      ],
      "metadata": {
        "id": "Y0pbU3LrgVxV"
      },
      "execution_count": null,
      "outputs": []
    },
    {
      "cell_type": "code",
      "source": [
        "predict_r(R, 3, 1)"
      ],
      "metadata": {
        "colab": {
          "base_uri": "https://localhost:8080/"
        },
        "id": "aYF07dWPh2-S",
        "outputId": "d0a5491c-f0b0-4ab1-d101-673fc0b57e6d"
      },
      "execution_count": null,
      "outputs": [
        {
          "output_type": "execute_result",
          "data": {
            "text/plain": [
              "6.479546404117822"
            ]
          },
          "metadata": {},
          "execution_count": 119
        }
      ]
    },
    {
      "cell_type": "code",
      "source": [
        "predict_r(R, 3, 6)"
      ],
      "metadata": {
        "colab": {
          "base_uri": "https://localhost:8080/"
        },
        "id": "XcDDgSpzmPTM",
        "outputId": "0e532c35-23cc-435c-a2be-83daf5d3013d"
      },
      "execution_count": null,
      "outputs": [
        {
          "output_type": "execute_result",
          "data": {
            "text/plain": [
              "4.0"
            ]
          },
          "metadata": {},
          "execution_count": 120
        }
      ]
    },
    {
      "cell_type": "code",
      "source": [
        "temp1 = R.copy()\n",
        "\n",
        "temp1.loc[3, 1] = 6.47\n",
        "temp1.loc[3, 6] = 4\n",
        "\n",
        "temp1"
      ],
      "metadata": {
        "colab": {
          "base_uri": "https://localhost:8080/",
          "height": 206
        },
        "id": "yndrRb8wwgw5",
        "outputId": "462f099b-7fa3-4925-8226-c296873d6a7d"
      },
      "execution_count": null,
      "outputs": [
        {
          "output_type": "execute_result",
          "data": {
            "text/plain": [
              "      1    2    3  4  5    6\n",
              "1  7.00  6.0  7.0  4  5  4.0\n",
              "2  6.00  7.0  NaN  4  3  4.0\n",
              "3  6.47  3.0  3.0  1  1  4.0\n",
              "4  1.00  2.0  2.0  3  3  4.0\n",
              "5  1.00  NaN  1.0  2  3  3.0"
            ],
            "text/html": [
              "\n",
              "  <div id=\"df-7beae908-4937-4760-bf15-6e6cd40ccf86\">\n",
              "    <div class=\"colab-df-container\">\n",
              "      <div>\n",
              "<style scoped>\n",
              "    .dataframe tbody tr th:only-of-type {\n",
              "        vertical-align: middle;\n",
              "    }\n",
              "\n",
              "    .dataframe tbody tr th {\n",
              "        vertical-align: top;\n",
              "    }\n",
              "\n",
              "    .dataframe thead th {\n",
              "        text-align: right;\n",
              "    }\n",
              "</style>\n",
              "<table border=\"1\" class=\"dataframe\">\n",
              "  <thead>\n",
              "    <tr style=\"text-align: right;\">\n",
              "      <th></th>\n",
              "      <th>1</th>\n",
              "      <th>2</th>\n",
              "      <th>3</th>\n",
              "      <th>4</th>\n",
              "      <th>5</th>\n",
              "      <th>6</th>\n",
              "    </tr>\n",
              "  </thead>\n",
              "  <tbody>\n",
              "    <tr>\n",
              "      <th>1</th>\n",
              "      <td>7.00</td>\n",
              "      <td>6.0</td>\n",
              "      <td>7.0</td>\n",
              "      <td>4</td>\n",
              "      <td>5</td>\n",
              "      <td>4.0</td>\n",
              "    </tr>\n",
              "    <tr>\n",
              "      <th>2</th>\n",
              "      <td>6.00</td>\n",
              "      <td>7.0</td>\n",
              "      <td>NaN</td>\n",
              "      <td>4</td>\n",
              "      <td>3</td>\n",
              "      <td>4.0</td>\n",
              "    </tr>\n",
              "    <tr>\n",
              "      <th>3</th>\n",
              "      <td>6.47</td>\n",
              "      <td>3.0</td>\n",
              "      <td>3.0</td>\n",
              "      <td>1</td>\n",
              "      <td>1</td>\n",
              "      <td>4.0</td>\n",
              "    </tr>\n",
              "    <tr>\n",
              "      <th>4</th>\n",
              "      <td>1.00</td>\n",
              "      <td>2.0</td>\n",
              "      <td>2.0</td>\n",
              "      <td>3</td>\n",
              "      <td>3</td>\n",
              "      <td>4.0</td>\n",
              "    </tr>\n",
              "    <tr>\n",
              "      <th>5</th>\n",
              "      <td>1.00</td>\n",
              "      <td>NaN</td>\n",
              "      <td>1.0</td>\n",
              "      <td>2</td>\n",
              "      <td>3</td>\n",
              "      <td>3.0</td>\n",
              "    </tr>\n",
              "  </tbody>\n",
              "</table>\n",
              "</div>\n",
              "      <button class=\"colab-df-convert\" onclick=\"convertToInteractive('df-7beae908-4937-4760-bf15-6e6cd40ccf86')\"\n",
              "              title=\"Convert this dataframe to an interactive table.\"\n",
              "              style=\"display:none;\">\n",
              "        \n",
              "  <svg xmlns=\"http://www.w3.org/2000/svg\" height=\"24px\"viewBox=\"0 0 24 24\"\n",
              "       width=\"24px\">\n",
              "    <path d=\"M0 0h24v24H0V0z\" fill=\"none\"/>\n",
              "    <path d=\"M18.56 5.44l.94 2.06.94-2.06 2.06-.94-2.06-.94-.94-2.06-.94 2.06-2.06.94zm-11 1L8.5 8.5l.94-2.06 2.06-.94-2.06-.94L8.5 2.5l-.94 2.06-2.06.94zm10 10l.94 2.06.94-2.06 2.06-.94-2.06-.94-.94-2.06-.94 2.06-2.06.94z\"/><path d=\"M17.41 7.96l-1.37-1.37c-.4-.4-.92-.59-1.43-.59-.52 0-1.04.2-1.43.59L10.3 9.45l-7.72 7.72c-.78.78-.78 2.05 0 2.83L4 21.41c.39.39.9.59 1.41.59.51 0 1.02-.2 1.41-.59l7.78-7.78 2.81-2.81c.8-.78.8-2.07 0-2.86zM5.41 20L4 18.59l7.72-7.72 1.47 1.35L5.41 20z\"/>\n",
              "  </svg>\n",
              "      </button>\n",
              "      \n",
              "  <style>\n",
              "    .colab-df-container {\n",
              "      display:flex;\n",
              "      flex-wrap:wrap;\n",
              "      gap: 12px;\n",
              "    }\n",
              "\n",
              "    .colab-df-convert {\n",
              "      background-color: #E8F0FE;\n",
              "      border: none;\n",
              "      border-radius: 50%;\n",
              "      cursor: pointer;\n",
              "      display: none;\n",
              "      fill: #1967D2;\n",
              "      height: 32px;\n",
              "      padding: 0 0 0 0;\n",
              "      width: 32px;\n",
              "    }\n",
              "\n",
              "    .colab-df-convert:hover {\n",
              "      background-color: #E2EBFA;\n",
              "      box-shadow: 0px 1px 2px rgba(60, 64, 67, 0.3), 0px 1px 3px 1px rgba(60, 64, 67, 0.15);\n",
              "      fill: #174EA6;\n",
              "    }\n",
              "\n",
              "    [theme=dark] .colab-df-convert {\n",
              "      background-color: #3B4455;\n",
              "      fill: #D2E3FC;\n",
              "    }\n",
              "\n",
              "    [theme=dark] .colab-df-convert:hover {\n",
              "      background-color: #434B5C;\n",
              "      box-shadow: 0px 1px 3px 1px rgba(0, 0, 0, 0.15);\n",
              "      filter: drop-shadow(0px 1px 2px rgba(0, 0, 0, 0.3));\n",
              "      fill: #FFFFFF;\n",
              "    }\n",
              "  </style>\n",
              "\n",
              "      <script>\n",
              "        const buttonEl =\n",
              "          document.querySelector('#df-7beae908-4937-4760-bf15-6e6cd40ccf86 button.colab-df-convert');\n",
              "        buttonEl.style.display =\n",
              "          google.colab.kernel.accessAllowed ? 'block' : 'none';\n",
              "\n",
              "        async function convertToInteractive(key) {\n",
              "          const element = document.querySelector('#df-7beae908-4937-4760-bf15-6e6cd40ccf86');\n",
              "          const dataTable =\n",
              "            await google.colab.kernel.invokeFunction('convertToInteractive',\n",
              "                                                     [key], {});\n",
              "          if (!dataTable) return;\n",
              "\n",
              "          const docLinkHtml = 'Like what you see? Visit the ' +\n",
              "            '<a target=\"_blank\" href=https://colab.research.google.com/notebooks/data_table.ipynb>data table notebook</a>'\n",
              "            + ' to learn more about interactive tables.';\n",
              "          element.innerHTML = '';\n",
              "          dataTable['output_type'] = 'display_data';\n",
              "          await google.colab.output.renderOutput(dataTable, element);\n",
              "          const docLink = document.createElement('div');\n",
              "          docLink.innerHTML = docLinkHtml;\n",
              "          element.appendChild(docLink);\n",
              "        }\n",
              "      </script>\n",
              "    </div>\n",
              "  </div>\n",
              "  "
            ]
          },
          "metadata": {},
          "execution_count": 175
        }
      ]
    },
    {
      "cell_type": "markdown",
      "source": [
        "사용자들은 평점을 내리는 방식이 사용자마다 다르기 때문에 1번,2번 사용자(피어 그룹)는 3번 사용자(타깃)에 비하여 더 긍정적인 평가를 하였습니다.\n",
        "\n",
        "평균 중심 평점을 기반으로 계산하여 차이를 확인하겠습니다.\n"
      ],
      "metadata": {
        "id": "vnFa9vN4nrx7"
      }
    },
    {
      "cell_type": "markdown",
      "source": [
        "#### 평점 예측하기(평균 중심 계산)\n",
        "\n",
        "$$\\hat{r}_{uj} = μ_{u}+\\frac{∑_{v\\in{P_{u}(j)}}^{}Sim(u, v)⋅s_{vj}}{∑_{v\\in{P_{u}(j)}}^{}|Sim(u, v)|}$$\n",
        "\n",
        "$$= μ_{u}+\\frac{∑_{v\\in{P_{u}(j)}}^{}Sim(u, v)⋅(r_{vj}-μ_{v})}{∑_{v\\in{P_{u}(j)}}^{}|Sim(u, v)|}$$"
      ],
      "metadata": {
        "id": "frQJ6MHepJkC"
      }
    },
    {
      "cell_type": "code",
      "source": [
        "def get_s(table):\n",
        "  M_u = R.mean(axis=1)\n",
        "  S = (R.T - M_u).T\n",
        "  return S, M_u"
      ],
      "metadata": {
        "id": "icjLZrFwqT80"
      },
      "execution_count": null,
      "outputs": []
    },
    {
      "cell_type": "code",
      "source": [
        "def predict_r_adv(table, user_id, item_id, j=5):\n",
        "  #S 테이블 계산\n",
        "  table_S, M_u = get_s(table)\n",
        "\n",
        "  #피어그룹 찾기\n",
        "  peer_group = find_peer_group(table, user_id, j)\n",
        "\n",
        "  #관측값(실제값)\n",
        "  s = table_S.loc[peer_group, item_id].values\n",
        "\n",
        "\n",
        "  #피어슨 상관계수 계산\n",
        "  pearson = table.T.corr(method='pearson')\n",
        "  #분모\n",
        "  denominator = np.sum(pearson.loc[user_id, peer_group])\n",
        "  #분자\n",
        "  numerator = np.sum((s * pearson.loc[user_id, peer_group]))\n",
        "  #r_hat = (numerator / denominator) + M_u\n",
        "  r_hat = (numerator / denominator) + M_u.loc[user_id]\n",
        "  return r_hat"
      ],
      "metadata": {
        "id": "mPdWlQ9_nrJV"
      },
      "execution_count": null,
      "outputs": []
    },
    {
      "cell_type": "code",
      "source": [
        "predict_r_adv(R, 3, 1)"
      ],
      "metadata": {
        "colab": {
          "base_uri": "https://localhost:8080/"
        },
        "id": "gFtxAynmp5jW",
        "outputId": "97dd24d5-8528-4da1-e219-a03e3aa0ec14"
      },
      "execution_count": null,
      "outputs": [
        {
          "output_type": "execute_result",
          "data": {
            "text/plain": [
              "3.3438639212353465"
            ]
          },
          "metadata": {},
          "execution_count": 170
        }
      ]
    },
    {
      "cell_type": "code",
      "source": [
        "predict_r_adv(R, 3, 6)"
      ],
      "metadata": {
        "colab": {
          "base_uri": "https://localhost:8080/"
        },
        "id": "G0328SKnp7uU",
        "outputId": "a603686a-c8e7-4b59-b368-5a6d39603677"
      },
      "execution_count": null,
      "outputs": [
        {
          "output_type": "execute_result",
          "data": {
            "text/plain": [
              "0.864317517117525"
            ]
          },
          "metadata": {},
          "execution_count": 171
        }
      ]
    },
    {
      "cell_type": "code",
      "source": [
        "temp2 = R.copy()\n",
        "\n",
        "temp2.loc[3, 1] = 3.34\n",
        "temp2.loc[3, 6] = 0.86\n",
        "\n",
        "temp2"
      ],
      "metadata": {
        "colab": {
          "base_uri": "https://localhost:8080/",
          "height": 206
        },
        "id": "UFHOCu9Twi6i",
        "outputId": "cf7a15d9-dd1e-4a32-b922-a75118615726"
      },
      "execution_count": null,
      "outputs": [
        {
          "output_type": "execute_result",
          "data": {
            "text/plain": [
              "      1    2    3  4  5     6\n",
              "1  7.00  6.0  7.0  4  5  4.00\n",
              "2  6.00  7.0  NaN  4  3  4.00\n",
              "3  3.34  3.0  3.0  1  1  0.86\n",
              "4  1.00  2.0  2.0  3  3  4.00\n",
              "5  1.00  NaN  1.0  2  3  3.00"
            ],
            "text/html": [
              "\n",
              "  <div id=\"df-f5123bda-b806-4276-8f73-ccdf803f94a2\">\n",
              "    <div class=\"colab-df-container\">\n",
              "      <div>\n",
              "<style scoped>\n",
              "    .dataframe tbody tr th:only-of-type {\n",
              "        vertical-align: middle;\n",
              "    }\n",
              "\n",
              "    .dataframe tbody tr th {\n",
              "        vertical-align: top;\n",
              "    }\n",
              "\n",
              "    .dataframe thead th {\n",
              "        text-align: right;\n",
              "    }\n",
              "</style>\n",
              "<table border=\"1\" class=\"dataframe\">\n",
              "  <thead>\n",
              "    <tr style=\"text-align: right;\">\n",
              "      <th></th>\n",
              "      <th>1</th>\n",
              "      <th>2</th>\n",
              "      <th>3</th>\n",
              "      <th>4</th>\n",
              "      <th>5</th>\n",
              "      <th>6</th>\n",
              "    </tr>\n",
              "  </thead>\n",
              "  <tbody>\n",
              "    <tr>\n",
              "      <th>1</th>\n",
              "      <td>7.00</td>\n",
              "      <td>6.0</td>\n",
              "      <td>7.0</td>\n",
              "      <td>4</td>\n",
              "      <td>5</td>\n",
              "      <td>4.00</td>\n",
              "    </tr>\n",
              "    <tr>\n",
              "      <th>2</th>\n",
              "      <td>6.00</td>\n",
              "      <td>7.0</td>\n",
              "      <td>NaN</td>\n",
              "      <td>4</td>\n",
              "      <td>3</td>\n",
              "      <td>4.00</td>\n",
              "    </tr>\n",
              "    <tr>\n",
              "      <th>3</th>\n",
              "      <td>3.34</td>\n",
              "      <td>3.0</td>\n",
              "      <td>3.0</td>\n",
              "      <td>1</td>\n",
              "      <td>1</td>\n",
              "      <td>0.86</td>\n",
              "    </tr>\n",
              "    <tr>\n",
              "      <th>4</th>\n",
              "      <td>1.00</td>\n",
              "      <td>2.0</td>\n",
              "      <td>2.0</td>\n",
              "      <td>3</td>\n",
              "      <td>3</td>\n",
              "      <td>4.00</td>\n",
              "    </tr>\n",
              "    <tr>\n",
              "      <th>5</th>\n",
              "      <td>1.00</td>\n",
              "      <td>NaN</td>\n",
              "      <td>1.0</td>\n",
              "      <td>2</td>\n",
              "      <td>3</td>\n",
              "      <td>3.00</td>\n",
              "    </tr>\n",
              "  </tbody>\n",
              "</table>\n",
              "</div>\n",
              "      <button class=\"colab-df-convert\" onclick=\"convertToInteractive('df-f5123bda-b806-4276-8f73-ccdf803f94a2')\"\n",
              "              title=\"Convert this dataframe to an interactive table.\"\n",
              "              style=\"display:none;\">\n",
              "        \n",
              "  <svg xmlns=\"http://www.w3.org/2000/svg\" height=\"24px\"viewBox=\"0 0 24 24\"\n",
              "       width=\"24px\">\n",
              "    <path d=\"M0 0h24v24H0V0z\" fill=\"none\"/>\n",
              "    <path d=\"M18.56 5.44l.94 2.06.94-2.06 2.06-.94-2.06-.94-.94-2.06-.94 2.06-2.06.94zm-11 1L8.5 8.5l.94-2.06 2.06-.94-2.06-.94L8.5 2.5l-.94 2.06-2.06.94zm10 10l.94 2.06.94-2.06 2.06-.94-2.06-.94-.94-2.06-.94 2.06-2.06.94z\"/><path d=\"M17.41 7.96l-1.37-1.37c-.4-.4-.92-.59-1.43-.59-.52 0-1.04.2-1.43.59L10.3 9.45l-7.72 7.72c-.78.78-.78 2.05 0 2.83L4 21.41c.39.39.9.59 1.41.59.51 0 1.02-.2 1.41-.59l7.78-7.78 2.81-2.81c.8-.78.8-2.07 0-2.86zM5.41 20L4 18.59l7.72-7.72 1.47 1.35L5.41 20z\"/>\n",
              "  </svg>\n",
              "      </button>\n",
              "      \n",
              "  <style>\n",
              "    .colab-df-container {\n",
              "      display:flex;\n",
              "      flex-wrap:wrap;\n",
              "      gap: 12px;\n",
              "    }\n",
              "\n",
              "    .colab-df-convert {\n",
              "      background-color: #E8F0FE;\n",
              "      border: none;\n",
              "      border-radius: 50%;\n",
              "      cursor: pointer;\n",
              "      display: none;\n",
              "      fill: #1967D2;\n",
              "      height: 32px;\n",
              "      padding: 0 0 0 0;\n",
              "      width: 32px;\n",
              "    }\n",
              "\n",
              "    .colab-df-convert:hover {\n",
              "      background-color: #E2EBFA;\n",
              "      box-shadow: 0px 1px 2px rgba(60, 64, 67, 0.3), 0px 1px 3px 1px rgba(60, 64, 67, 0.15);\n",
              "      fill: #174EA6;\n",
              "    }\n",
              "\n",
              "    [theme=dark] .colab-df-convert {\n",
              "      background-color: #3B4455;\n",
              "      fill: #D2E3FC;\n",
              "    }\n",
              "\n",
              "    [theme=dark] .colab-df-convert:hover {\n",
              "      background-color: #434B5C;\n",
              "      box-shadow: 0px 1px 3px 1px rgba(0, 0, 0, 0.15);\n",
              "      filter: drop-shadow(0px 1px 2px rgba(0, 0, 0, 0.3));\n",
              "      fill: #FFFFFF;\n",
              "    }\n",
              "  </style>\n",
              "\n",
              "      <script>\n",
              "        const buttonEl =\n",
              "          document.querySelector('#df-f5123bda-b806-4276-8f73-ccdf803f94a2 button.colab-df-convert');\n",
              "        buttonEl.style.display =\n",
              "          google.colab.kernel.accessAllowed ? 'block' : 'none';\n",
              "\n",
              "        async function convertToInteractive(key) {\n",
              "          const element = document.querySelector('#df-f5123bda-b806-4276-8f73-ccdf803f94a2');\n",
              "          const dataTable =\n",
              "            await google.colab.kernel.invokeFunction('convertToInteractive',\n",
              "                                                     [key], {});\n",
              "          if (!dataTable) return;\n",
              "\n",
              "          const docLinkHtml = 'Like what you see? Visit the ' +\n",
              "            '<a target=\"_blank\" href=https://colab.research.google.com/notebooks/data_table.ipynb>data table notebook</a>'\n",
              "            + ' to learn more about interactive tables.';\n",
              "          element.innerHTML = '';\n",
              "          dataTable['output_type'] = 'display_data';\n",
              "          await google.colab.output.renderOutput(dataTable, element);\n",
              "          const docLink = document.createElement('div');\n",
              "          docLink.innerHTML = docLinkHtml;\n",
              "          element.appendChild(docLink);\n",
              "        }\n",
              "      </script>\n",
              "    </div>\n",
              "  </div>\n",
              "  "
            ]
          },
          "metadata": {},
          "execution_count": 177
        }
      ]
    },
    {
      "cell_type": "markdown",
      "source": [
        "### 평점 예측하기 종합\n",
        "\n",
        "- 6.47 --> 3.34\n",
        "- 4 --> 0.86\n",
        "\n",
        "값의 변화가 있는 것을 확인해볼 수 있습니다.\n",
        "\n",
        "전의 예측 보다는 **조금 더 사용자의 평점을 내리는 방식에 맞게 변경된 것을 확인할 수 있습니다.**"
      ],
      "metadata": {
        "id": "7l9O0a25swmo"
      }
    },
    {
      "cell_type": "markdown",
      "source": [
        "이전 예측과 차이점을 확인해보면 3번 사용자에 대해서 아이템 1이 아이템 3(예측하지 않은 값)보다 추천 항목으로 우선순위가 더 높다는 것을 알려주기도 합니다.\n",
        "\n",
        "하지만 아이템 6에 대하여 예측값은 큰 차이를 보입니다.\n",
        "- 4 --> 0.86\n",
        "\n",
        "3번 사용자는 가장 낮은 평점으로 4점으로 매겼지만 여기서의 예측값은 0.86으로 아주 낮은 값을 보여줍니다. \n",
        "\n",
        "피어그룹(1번, 2번 사용자)이 아이템 6에 대하여 다른 아이템 비하여 낮은 점수를 부여했기 때문에 위와 같은 결과가 나온 것입니다.\n",
        "\n",
        "따라서 평균 중심 계산, 과정? 은 이미 평가된 평점에 대해 상대적으로 훨씬 좋은 예측합니다.\n",
        "\n",
        "하지만 0.86은 1~7점 사이의 값을 벗어나기 때문에 벗어난 값에는 알맞은 값으로 대체해야 합니다.\n"
      ],
      "metadata": {
        "id": "VJQQVtKSszb0"
      }
    },
    {
      "cell_type": "markdown",
      "source": [
        "### 유사도 함수 변형\n",
        "\n",
        "실제로 유사도 함수를 변형에서 사용하는 경우가 있습니다.\n",
        "\n",
        "피어그룹을 결정하는 과정에서 평점 그 자체에 유사도 함수를 사용하기도 합니다.\n"
      ],
      "metadata": {
        "id": "Zj25iKj4yj-1"
      }
    },
    {
      "cell_type": "markdown",
      "source": [
        "$$RawCosine(u, v) = \\frac{∑_{k\\in{I_{u}\\cap{I_{v}}}}r_{uk}⋅r_{vk}}{\\sqrt{∑_{k∈I_{u}∩I_{v}}r_{uk}^{2}}⋅\\sqrt{∑_{k∈I_{u}∩I_{v}}r_{vk}^{2}}}$$\n"
      ],
      "metadata": {
        "id": "yh063IhCzNT-"
      }
    },
    {
      "cell_type": "markdown",
      "source": [
        "*RawCosine의 일부 구현에서 분모의 정규화는 상호 관련이 있는 아이템에 대해서만이 아닌 지정된 전체 아이템을 기반으로 합니다.*"
      ],
      "metadata": {
        "id": "f-D9q7ZX0cHX"
      }
    },
    {
      "cell_type": "markdown",
      "source": [
        "$$RawCosine(u, v) = \\frac{∑_{k∈I_{u}∩I_{v}}r_{uk}⋅r_{vk}}{\\sqrt{∑_{k∈I_u}r_{uk}^{2}}⋅\\sqrt{∑_{k∈I_v}r_{vk}^{2}}}$$"
      ],
      "metadata": {
        "id": "9pafPQIf02Wt"
      }
    },
    {
      "cell_type": "markdown",
      "source": [
        "보편적으로 피어슨 상관계수는 평균 중심에서는 바이어스 조정 효과가 있기 때문에 RawCosine이 더 바람직합니다.\n",
        "\n",
        "서로 다른 사용자가 전체 평점 부여하는 패턴에 있어서 서로 다르다는 것을 의미합니다.\n",
        "\n",
        "- 중요도 가중치(significance weighting) : 두 명의 사용자가 공통적으로 평점을 부여한 수가 적다면, 유사도 함수는 두 사용자 쌍의 중요도를 덜 강조하기 위하애 할인 요인을 적용해 낮춤\n",
        "\n"
      ],
      "metadata": {
        "id": "7r71OVRa1nWW"
      }
    },
    {
      "cell_type": "markdown",
      "source": [
        "$$DiscountedSim(u, v)=Sim(u, v)⋅\\frac{min\\{|I_{u}∩I_{v}|, β\\}}{β}$$"
      ],
      "metadata": {
        "id": "Ib5I2HZ22KUn"
      }
    },
    {
      "cell_type": "markdown",
      "source": [
        "할인 요인은 두 사용자 간의 공통으로 부여한 평점 개수가 특정 임계점 β보다 작은 경우 사용을 합니다.\n",
        "\n",
        "- 할인 요인 값은 $\\frac{min\\{|I_{u}∩I_{v}|, β\\}}{β}$와 같습니다.\n",
        "- 할인 요인의 범위는 [0, 1] 안에서 움직입니다."
      ],
      "metadata": {
        "id": "wCbnjsel2jH3"
      }
    },
    {
      "cell_type": "markdown",
      "source": [
        "### 예측함수의 변형"
      ],
      "metadata": {
        "id": "IkQRb7IY3IJT"
      }
    },
    {
      "cell_type": "markdown",
      "source": [
        "평점 예측하기 에서 사용한 예측함수에는 다양한 변형이 있습니다.\n",
        "\n",
        "위에서는 중심 $s_{uj}$를 기준으로 한 평점 $r_{uj}$의 평균 중심을 이용하였는데\n",
        "\n",
        "대신에 $s_{uj}$를 사용자($u$)의 관측된 평점에 대한 표준편차($σ_{u}$)로 나누어주는 Z-스코어($z_{uj}$)를 사용할수 있습니다."
      ],
      "metadata": {
        "id": "UM91rha83L4O"
      }
    },
    {
      "cell_type": "markdown",
      "source": [
        "Z-스코어($z_{uj}$)를 구할 때 사용하는 표준편차(σ_{u})를 구하는 식은 아래와 같습니다."
      ],
      "metadata": {
        "id": "sFJj6ORw35cw"
      }
    },
    {
      "cell_type": "markdown",
      "source": [
        "$$σ_{u}=\\sqrt{\\frac{∑_{j∈I_{u}}(r_{uj}-μ_{u})^{2}}{|I_{u}|-1}}$$"
      ],
      "metadata": {
        "id": "V2sYX_-14DmB"
      }
    },
    {
      "cell_type": "markdown",
      "source": [
        "Z-스코어($z_{uj}$)를 계산하는 식은 다음과 같습니다."
      ],
      "metadata": {
        "id": "l-otYRU74lKW"
      }
    },
    {
      "cell_type": "markdown",
      "source": [
        "$$z_{uj}=\\frac{r_{uj}-μ_{u}}{σ_{u}}=\\frac{s_{uj}}{σ_{u}}$$"
      ],
      "metadata": {
        "id": "O1UKFUcs4rLl"
      }
    },
    {
      "cell_type": "markdown",
      "source": [
        "$P_{u}(j)$를 타깃 사용자($u$)의 상위-%k%명의 아이템의 평점을 기록한 피어 그룹(유사 사용자 집합)이라고 할때  \n",
        "타깃 사용자($u$)의 아이템($j$)의 예측 평점을 ($\\hat{r_{uj}}$)이라고 합니다.\n",
        "\n",
        "\n",
        "\n",
        "예측 평점($\\hat{r_{uj}}$)를 계산하는 식은 다음과 같습니다."
      ],
      "metadata": {
        "id": "ogX4zLUZ5I1E"
      }
    },
    {
      "cell_type": "markdown",
      "source": [
        "$$\\hat{r}_{uj} = μ_{u}+σ_{u}\\frac{∑_{v\\in{P_{u}(j)}}^{}Sim(u, v)⋅z_{vj}}{∑_{v\\in{P_{u}(j)}}^{}|Sim(u, v)|}$$"
      ],
      "metadata": {
        "id": "orkQIFgK5Re5"
      }
    },
    {
      "cell_type": "markdown",
      "source": [
        "Z-스코어를 사용한 예측 방법은 예측 평점이 실제 평점 범위 밖에 있을 수 있습니다.\n",
        "\n",
        "그럼에도 특정 사용자에 대한 항목의 순위를 매기는데 사용하고 있습니다."
      ],
      "metadata": {
        "id": "TZSbSCtY5eyS"
      }
    },
    {
      "cell_type": "markdown",
      "source": [
        "타깃 사용자($u$)에 대한 사용자($v$)의 유사도 함수 $Sim(u, v)$에 따라 가중치가 계산이 되는데 \n",
        "$Sim(u,v)$는 피어슨 상관계수에 의하여 계산되지만 α의 지수로 지수화해서 증폭시키는 방법이 있습니다.\n",
        "\n",
        "$$Sim(u,v)=Pearson(u, v)^{α}, α>1$$\n",
        "\n",
        "위의 식을 확인해보면\n",
        "\n",
        "가중치 계산에서 유사도 중요성을 더 증폭시키는 방법이 가능합니다.\n",
        "\n"
      ],
      "metadata": {
        "id": "y6EPFWa3DRf5"
      }
    },
    {
      "cell_type": "markdown",
      "source": [
        "### 롱테일 문제"
      ],
      "metadata": {
        "id": "MdQ2pfUtE86z"
      }
    },
    {
      "cell_type": "markdown",
      "source": [
        "![image.png](data:image/png;base64,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)  \n",
        "출처 : [신아일보](http://www.shinailbo.co.kr/news/articleView.html?idxno=1077552)"
      ],
      "metadata": {
        "id": "H19rawgjFj8d"
      }
    },
    {
      "cell_type": "markdown",
      "source": [
        "롱테일 문제는 현실세계를 반영한 문제입니다.  \n",
        "사람들은 인기 있는 주류의 아이템을 주료 평가하며 인기없는 비주류의 아이템은 평가하지 않습니다.\n",
        "\n",
        "이 문제 추천시스템에도 나타나게 되는데 아이템을 추천할 때 인기있는 주류의 아이템을 추천하게 되고 계속 비슷한 유명한 아이템을 추천하여 사용자가 지루하게 느끼며 다양함에 대해 부정적인 영향을 주게 됩니다.\n",
        "\n",
        "아마존과 같은 많은 회사는 롱테일에 위치한 비주류 아이템을 추천하여 팔면서 많은 이윤을 남겼다고 합니다.  \n"
      ],
      "metadata": {
        "id": "2MFGBtucFtjf"
      }
    },
    {
      "cell_type": "markdown",
      "source": [
        "이러한 롱테일 문제를 개선하기 위하여 정보 검색 문헌에 쓰이는 idf(역문서빈도)의 개념을 사용하여 개선할 수 있습니다.\n",
        "\n",
        "아이템($j$)에 대한 평점 개수를 $m_{j}$라하고, $m$은 총 사용자 수 라면  \n",
        "아이템 $j$에 대한 가중치 $w_{j}$는 다음과 같습니다."
      ],
      "metadata": {
        "id": "1P25xpr9Ftdo"
      }
    },
    {
      "cell_type": "markdown",
      "source": [
        "$$w_{j}=log(\\frac{m}{m_{j}})$$"
      ],
      "metadata": {
        "id": "HXd574t4HEti"
      }
    },
    {
      "cell_type": "markdown",
      "source": [
        "유사도를 계산하는 과정과 추천 과정에서 모두 각각의 아이템 $j$에 대하여 $w_{j}$가중치를 부여합니다."
      ],
      "metadata": {
        "id": "NZtzxDmwHV4m"
      }
    },
    {
      "cell_type": "markdown",
      "source": [
        "$$Pearson(u,v) = \\frac{∑_{k∈I_u∩I_v}w_{k}⋅(r_{uk}-μ_{u})⋅(r_{vk}-μ_{v})}{\\sqrt{∑_{k∈I_u∩I_v}w_{k}⋅(r_{uk}-μ_{u})^{2}}⋅\\sqrt{∑_{k∈I_{u}∩I_{v}}w_{k}⋅(r_{vk}-μ_{v})^{2}}}$$"
      ],
      "metadata": {
        "id": "92N8rM2MHdDN"
      }
    }
  ]
}